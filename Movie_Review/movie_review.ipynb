{
 "cells": [
  {
   "cell_type": "code",
   "execution_count": 2,
   "metadata": {},
   "outputs": [],
   "source": [
    "import pandas as pd\n",
    "import numpy as np\n",
    "import time"
   ]
  },
  {
   "cell_type": "markdown",
   "metadata": {},
   "source": [
    "Here I have imported the required libraries, that is, numpy for vector operations and pandas for importing data"
   ]
  },
  {
   "cell_type": "code",
   "execution_count": 3,
   "metadata": {},
   "outputs": [
    {
     "data": {
      "text/html": [
       "<div>\n",
       "<style scoped>\n",
       "    .dataframe tbody tr th:only-of-type {\n",
       "        vertical-align: middle;\n",
       "    }\n",
       "\n",
       "    .dataframe tbody tr th {\n",
       "        vertical-align: top;\n",
       "    }\n",
       "\n",
       "    .dataframe thead th {\n",
       "        text-align: right;\n",
       "    }\n",
       "</style>\n",
       "<table border=\"1\" class=\"dataframe\">\n",
       "  <thead>\n",
       "    <tr style=\"text-align: right;\">\n",
       "      <th></th>\n",
       "      <th>movie</th>\n",
       "      <th>review</th>\n",
       "    </tr>\n",
       "  </thead>\n",
       "  <tbody>\n",
       "    <tr>\n",
       "      <th>0</th>\n",
       "      <td>The Lord of the Rings The Two Towers</td>\n",
       "      <td>remarkable display of fantasy action powerful ...</td>\n",
       "    </tr>\n",
       "    <tr>\n",
       "      <th>1</th>\n",
       "      <td>Inception</td>\n",
       "      <td>implanting stealing idea destroy gripping acti...</td>\n",
       "    </tr>\n",
       "    <tr>\n",
       "      <th>2</th>\n",
       "      <td>Spiderman Across the spider verse</td>\n",
       "      <td>mind bending wild action sequences intimate em...</td>\n",
       "    </tr>\n",
       "    <tr>\n",
       "      <th>3</th>\n",
       "      <td>The Dark Knight</td>\n",
       "      <td>Best live action portrayal beat organized crim...</td>\n",
       "    </tr>\n",
       "    <tr>\n",
       "      <th>4</th>\n",
       "      <td>Three colors red</td>\n",
       "      <td>mesmerising friendship turned love profound un...</td>\n",
       "    </tr>\n",
       "  </tbody>\n",
       "</table>\n",
       "</div>"
      ],
      "text/plain": [
       "                                  movie  \\\n",
       "0  The Lord of the Rings The Two Towers   \n",
       "1                             Inception   \n",
       "2     Spiderman Across the spider verse   \n",
       "3                       The Dark Knight   \n",
       "4                      Three colors red   \n",
       "\n",
       "                                              review  \n",
       "0  remarkable display of fantasy action powerful ...  \n",
       "1  implanting stealing idea destroy gripping acti...  \n",
       "2  mind bending wild action sequences intimate em...  \n",
       "3  Best live action portrayal beat organized crim...  \n",
       "4  mesmerising friendship turned love profound un...  "
      ]
     },
     "execution_count": 3,
     "metadata": {},
     "output_type": "execute_result"
    }
   ],
   "source": [
    "#load the movie_review dataset\n",
    "DATA_DIR = 'D://ALA//Movie_Review//Data//'\n",
    "FILENAME = DATA_DIR + 'moviereviews.csv'\n",
    "df = pd.read_csv(FILENAME)\n",
    "df.head(5)\n"
   ]
  },
  {
   "cell_type": "markdown",
   "metadata": {},
   "source": [
    "Importing the dataset and displaying the first 5 columns of the dataset"
   ]
  },
  {
   "cell_type": "code",
   "execution_count": 4,
   "metadata": {},
   "outputs": [
    {
     "name": "stdout",
     "output_type": "stream",
     "text": [
      "movie     False\n",
      "review    False\n",
      "dtype: bool\n",
      "movie     0\n",
      "review    0\n",
      "dtype: int64\n",
      "13\n"
     ]
    }
   ],
   "source": [
    "print(df.isna().any())\n",
    "print(df.isna().sum())\n",
    "\n",
    "print(df['review'].nunique())"
   ]
  },
  {
   "cell_type": "markdown",
   "metadata": {},
   "source": [
    "checks the missing values \n",
    "prints the number of missing values \n",
    "prints the number of unique values"
   ]
  },
  {
   "cell_type": "code",
   "execution_count": 5,
   "metadata": {},
   "outputs": [
    {
     "data": {
      "text/html": [
       "<div>\n",
       "<style scoped>\n",
       "    .dataframe tbody tr th:only-of-type {\n",
       "        vertical-align: middle;\n",
       "    }\n",
       "\n",
       "    .dataframe tbody tr th {\n",
       "        vertical-align: top;\n",
       "    }\n",
       "\n",
       "    .dataframe thead th {\n",
       "        text-align: right;\n",
       "    }\n",
       "</style>\n",
       "<table border=\"1\" class=\"dataframe\">\n",
       "  <thead>\n",
       "    <tr style=\"text-align: right;\">\n",
       "      <th></th>\n",
       "      <th>movie</th>\n",
       "      <th>review</th>\n",
       "    </tr>\n",
       "  </thead>\n",
       "  <tbody>\n",
       "    <tr>\n",
       "      <th>0</th>\n",
       "      <td>The Lord of the Rings The Two Towers</td>\n",
       "      <td>remarkable display of fantasy action powerful ...</td>\n",
       "    </tr>\n",
       "    <tr>\n",
       "      <th>1</th>\n",
       "      <td>Inception</td>\n",
       "      <td>implanting stealing idea destroy gripping acti...</td>\n",
       "    </tr>\n",
       "    <tr>\n",
       "      <th>2</th>\n",
       "      <td>Spiderman Across the spider verse</td>\n",
       "      <td>mind bending wild action sequences intimate em...</td>\n",
       "    </tr>\n",
       "    <tr>\n",
       "      <th>3</th>\n",
       "      <td>The Dark Knight</td>\n",
       "      <td>Best live action portrayal beat organized crim...</td>\n",
       "    </tr>\n",
       "    <tr>\n",
       "      <th>4</th>\n",
       "      <td>Three colors red</td>\n",
       "      <td>mesmerising friendship turned love profound un...</td>\n",
       "    </tr>\n",
       "    <tr>\n",
       "      <th>5</th>\n",
       "      <td>It happened one night</td>\n",
       "      <td>Romantic comedy screwball comedy enduring tale...</td>\n",
       "    </tr>\n",
       "    <tr>\n",
       "      <th>6</th>\n",
       "      <td>In the Mood for Love</td>\n",
       "      <td>Neighbors solace bonding affair predicament sp...</td>\n",
       "    </tr>\n",
       "    <tr>\n",
       "      <th>7</th>\n",
       "      <td>Before Sunrise</td>\n",
       "      <td>blossoming love know each other chance encount...</td>\n",
       "    </tr>\n",
       "    <tr>\n",
       "      <th>8</th>\n",
       "      <td>Gone with the wind</td>\n",
       "      <td>epic romance greatest romantic film ever made ...</td>\n",
       "    </tr>\n",
       "    <tr>\n",
       "      <th>9</th>\n",
       "      <td>Eternal Sunshine of the Spotless Mind</td>\n",
       "      <td>Length people go finding love of life emotiona...</td>\n",
       "    </tr>\n",
       "    <tr>\n",
       "      <th>10</th>\n",
       "      <td>The Shawshank Redemption</td>\n",
       "      <td>movie about friendship life fight to be good p...</td>\n",
       "    </tr>\n",
       "    <tr>\n",
       "      <th>11</th>\n",
       "      <td>Raging Bull</td>\n",
       "      <td>brutal boxing sports movie turbulent life outs...</td>\n",
       "    </tr>\n",
       "    <tr>\n",
       "      <th>12</th>\n",
       "      <td>Lawrence of Arabia</td>\n",
       "      <td>classic adventure war movie psychological dram...</td>\n",
       "    </tr>\n",
       "  </tbody>\n",
       "</table>\n",
       "</div>"
      ],
      "text/plain": [
       "                                    movie  \\\n",
       "0    The Lord of the Rings The Two Towers   \n",
       "1                               Inception   \n",
       "2       Spiderman Across the spider verse   \n",
       "3                         The Dark Knight   \n",
       "4                        Three colors red   \n",
       "5                   It happened one night   \n",
       "6                    In the Mood for Love   \n",
       "7                          Before Sunrise   \n",
       "8                      Gone with the wind   \n",
       "9   Eternal Sunshine of the Spotless Mind   \n",
       "10               The Shawshank Redemption   \n",
       "11                            Raging Bull   \n",
       "12                     Lawrence of Arabia   \n",
       "\n",
       "                                               review  \n",
       "0   remarkable display of fantasy action powerful ...  \n",
       "1   implanting stealing idea destroy gripping acti...  \n",
       "2   mind bending wild action sequences intimate em...  \n",
       "3   Best live action portrayal beat organized crim...  \n",
       "4   mesmerising friendship turned love profound un...  \n",
       "5   Romantic comedy screwball comedy enduring tale...  \n",
       "6   Neighbors solace bonding affair predicament sp...  \n",
       "7   blossoming love know each other chance encount...  \n",
       "8   epic romance greatest romantic film ever made ...  \n",
       "9   Length people go finding love of life emotiona...  \n",
       "10  movie about friendship life fight to be good p...  \n",
       "11  brutal boxing sports movie turbulent life outs...  \n",
       "12  classic adventure war movie psychological dram...  "
      ]
     },
     "execution_count": 5,
     "metadata": {},
     "output_type": "execute_result"
    }
   ],
   "source": [
    "df.drop_duplicates()"
   ]
  },
  {
   "cell_type": "markdown",
   "metadata": {},
   "source": [
    "drops all the duplicate entries in the dataset."
   ]
  },
  {
   "cell_type": "code",
   "execution_count": 6,
   "metadata": {},
   "outputs": [
    {
     "data": {
      "text/plain": [
       "(13, 2)"
      ]
     },
     "execution_count": 6,
     "metadata": {},
     "output_type": "execute_result"
    }
   ],
   "source": [
    "df.shape\n",
    "#number of rows and columns in the dataset."
   ]
  },
  {
   "cell_type": "markdown",
   "metadata": {},
   "source": [
    "The dataset has 13 rows and 2 features"
   ]
  },
  {
   "cell_type": "markdown",
   "metadata": {},
   "source": []
  },
  {
   "cell_type": "code",
   "execution_count": 9,
   "metadata": {},
   "outputs": [],
   "source": [
    "from collections import Counter"
   ]
  },
  {
   "cell_type": "markdown",
   "metadata": {},
   "source": [
    "Used to calculate the number of occurances of a element in a list or array"
   ]
  },
  {
   "cell_type": "code",
   "execution_count": 10,
   "metadata": {},
   "outputs": [
    {
     "name": "stdout",
     "output_type": "stream",
     "text": [
      "[list([1, 1, 1, 1, 1, 1, 1, 1, 1, 1, 1])\n",
      " list([1, 1, 1, 1, 1, 1, 1, 1, 1, 1, 1, 1])\n",
      " list([1, 1, 1, 2, 1, 1, 1, 1, 1])\n",
      " list([1, 1, 1, 1, 1, 1, 1, 1, 1, 1, 1, 1, 1])\n",
      " list([1, 1, 1, 1, 1, 1, 1, 1]) list([1, 2, 1, 1, 1, 1, 1, 1, 1, 1])\n",
      " list([1, 1, 1, 1, 1, 1, 1, 1, 1])\n",
      " list([1, 1, 1, 1, 1, 1, 1, 1, 1, 1, 1, 1, 1, 1])\n",
      " list([1, 1, 1, 1, 1, 1, 1, 1, 1, 1, 1, 1])\n",
      " list([1, 1, 1, 1, 2, 2, 1, 1, 1, 1, 1, 1, 1, 1, 1, 1])\n",
      " list([1, 1, 1, 1, 1, 1, 1, 1, 1, 1, 1])\n",
      " list([2, 1, 1, 1, 1, 1, 1, 1, 1, 1, 1, 1, 1, 1])\n",
      " list([1, 1, 1, 1, 1, 1, 1, 1, 1, 1, 1, 1, 1])] \n",
      "\n",
      "Movie: The Lord of the Rings The Two Towers\n",
      "Vector: [1, 1, 1, 1, 1, 1, 1, 1, 1, 1, 1]\n",
      "\n",
      "Movie: Inception\n",
      "Vector: [1, 1, 1, 1, 1, 1, 1, 1, 1, 1, 1, 1]\n",
      "\n",
      "Movie: Spiderman Across the spider verse\n",
      "Vector: [1, 1, 1, 2, 1, 1, 1, 1, 1]\n",
      "\n",
      "Movie: The Dark Knight\n",
      "Vector: [1, 1, 1, 1, 1, 1, 1, 1, 1, 1, 1, 1, 1]\n",
      "\n",
      "Movie: Three colors red\n",
      "Vector: [1, 1, 1, 1, 1, 1, 1, 1]\n",
      "\n",
      "Movie: It happened one night\n",
      "Vector: [1, 2, 1, 1, 1, 1, 1, 1, 1, 1]\n",
      "\n",
      "Movie: In the Mood for Love\n",
      "Vector: [1, 1, 1, 1, 1, 1, 1, 1, 1]\n",
      "\n",
      "Movie: Before Sunrise\n",
      "Vector: [1, 1, 1, 1, 1, 1, 1, 1, 1, 1, 1, 1, 1, 1]\n",
      "\n",
      "Movie: Gone with the wind\n",
      "Vector: [1, 1, 1, 1, 1, 1, 1, 1, 1, 1, 1, 1]\n",
      "\n",
      "Movie: Eternal Sunshine of the Spotless Mind\n",
      "Vector: [1, 1, 1, 1, 2, 2, 1, 1, 1, 1, 1, 1, 1, 1, 1, 1]\n",
      "\n",
      "Movie: The Shawshank Redemption\n",
      "Vector: [1, 1, 1, 1, 1, 1, 1, 1, 1, 1, 1]\n",
      "\n",
      "Movie: Raging Bull\n",
      "Vector: [2, 1, 1, 1, 1, 1, 1, 1, 1, 1, 1, 1, 1, 1]\n",
      "\n",
      "Movie: Lawrence of Arabia\n",
      "Vector: [1, 1, 1, 1, 1, 1, 1, 1, 1, 1, 1, 1, 1]\n",
      "\n"
     ]
    },
    {
     "name": "stderr",
     "output_type": "stream",
     "text": [
      "C:\\Users\\ATISHAY SG\\AppData\\Local\\Temp\\ipykernel_10172\\4269750845.py:9: VisibleDeprecationWarning: Creating an ndarray from ragged nested sequences (which is a list-or-tuple of lists-or-tuples-or ndarrays with different lengths or shapes) is deprecated. If you meant to do this, you must specify 'dtype=object' when creating the ndarray.\n",
      "  numpy_review_vectors = np.array([list(vector.values()) for vector in review_vectors])\n"
     ]
    }
   ],
   "source": [
    "# Create vectors for each review\n",
    "review_vectors = []\n",
    "for review in df['review']:\n",
    "    words = review.split()\n",
    "    vector = Counter(words)  # Count the frequency of each word\n",
    "    review_vectors.append(vector)\n",
    "\n",
    "# Convert the list of review vectors into a numpy array\n",
    "numpy_review_vectors = np.array([list(vector.values()) for vector in review_vectors])\n",
    "\n",
    "print(numpy_review_vectors, '\\n')\n",
    "# Print the vectors\n",
    "for i, movie in enumerate(df['movie']):\n",
    "    print(f\"Movie: {movie}\")\n",
    "    print(f\"Vector: {numpy_review_vectors[i]}\")\n",
    "    print()\n"
   ]
  },
  {
   "cell_type": "markdown",
   "metadata": {},
   "source": []
  },
  {
   "cell_type": "code",
   "execution_count": 12,
   "metadata": {},
   "outputs": [
    {
     "data": {
      "text/plain": [
       "{'classic': 1,\n",
       " 'adventure': 1,\n",
       " 'war': 1,\n",
       " 'movie': 1,\n",
       " 'psychological': 1,\n",
       " 'drama': 1,\n",
       " 'british': 1,\n",
       " 'officer': 1,\n",
       " 'fight': 1,\n",
       " 'ottoman': 1,\n",
       " 'success': 1,\n",
       " 'ego': 1,\n",
       " 'dangerous': 1}"
      ]
     },
     "execution_count": 12,
     "metadata": {},
     "output_type": "execute_result"
    }
   ],
   "source": [
    "movie_review_vectors = {}\n",
    "for index, row in df.iterrows():\n",
    "    movie = row['movie']\n",
    "    review = row['review']\n",
    "\n",
    "    words = review.split()\n",
    "    vector = {}\n",
    "    for word in words:\n",
    "        vector[word] = vector.get(word, 0) + 1\n",
    "\n",
    "    movie_review_vectors[movie] = vector\n",
    "\n",
    "movie_review_vectors[movie]"
   ]
  },
  {
   "cell_type": "markdown",
   "metadata": {},
   "source": [
    "The loop iterates through the dataset extracting the movie name and the review features. It then creates a dictionary called vectors. A dictionary contains keywords mapped to its values. \n",
    "Here, the key is the words in the review column and values are the frequencies of each word.\n",
    "(This was also thought in the class by using 2 sentences."
   ]
  },
  {
   "cell_type": "code",
   "execution_count": null,
   "metadata": {},
   "outputs": [],
   "source": [
    "def dot_product(v1, v2):\n",
    "    result = 0\n",
    "    for word in v1:\n",
    "        if word in v2:\n",
    "            result += v1[word] * v2[word]\n",
    "    return result"
   ]
  },
  {
   "cell_type": "code",
   "execution_count": null,
   "metadata": {},
   "outputs": [],
   "source": [
    "similarities = {}\n",
    "for movie1 in movie_review_vectors:\n",
    "    for movie2 in movie_review_vectors:\n",
    "        if movie1 != movie2:\n",
    "            similarity = dot_product(movie_review_vectors[movie1], movie_review_vectors[movie2])\n",
    "            similarities[(movie1, movie2)] = similarity"
   ]
  },
  {
   "cell_type": "markdown",
   "metadata": {},
   "source": []
  },
  {
   "cell_type": "code",
   "execution_count": null,
   "metadata": {},
   "outputs": [
    {
     "data": {
      "text/plain": [
       "[(('It happened one night', 'Eternal Sunshine of the Spotless Mind'), 4),\n",
       " (('Eternal Sunshine of the Spotless Mind', 'It happened one night'), 4),\n",
       " (('The Lord of the Rings The Two Towers', 'Inception'), 3)]"
      ]
     },
     "execution_count": 11,
     "metadata": {},
     "output_type": "execute_result"
    }
   ],
   "source": [
    "top_similar_pairs = sorted(similarities.items(), key=lambda x: x[1], reverse=True)[:3]\n",
    "top_similar_pairs\n"
   ]
  },
  {
   "cell_type": "code",
   "execution_count": null,
   "metadata": {},
   "outputs": [
    {
     "name": "stdout",
     "output_type": "stream",
     "text": [
      "Movies: It happened one night and Eternal Sunshine of the Spotless Mind, Similarity: 4\n",
      "Movies: Eternal Sunshine of the Spotless Mind and It happened one night, Similarity: 4\n",
      "Movies: The Lord of the Rings The Two Towers and Inception, Similarity: 3\n"
     ]
    }
   ],
   "source": [
    "for pair, similarity in top_similar_pairs:\n",
    "    print(f\"Movies: {pair[0]} and {pair[1]}, Similarity: {similarity}\")"
   ]
  },
  {
   "cell_type": "code",
   "execution_count": null,
   "metadata": {},
   "outputs": [],
   "source": [
    "def numpy_dot_product(v1, v2):\n",
    "    keys = set(v1.keys()) & set(v2.keys())\n",
    "    np_dot_prod = np.dot([v1[key] for key in keys], [v2[key] for key in keys])\n",
    "    return np_dot_prod \n",
    "\n"
   ]
  },
  {
   "cell_type": "code",
   "execution_count": null,
   "metadata": {},
   "outputs": [],
   "source": [
    "n_iterations = 10000\n"
   ]
  },
  {
   "cell_type": "code",
   "execution_count": null,
   "metadata": {},
   "outputs": [],
   "source": [
    "start_time = time.time()\n",
    "for _ in range(n_iterations):\n",
    "    for movie1 in movie_review_vectors:\n",
    "        for movie2 in movie_review_vectors:\n",
    "            if movie1 != movie2:\n",
    "                dot_product(movie_review_vectors[movie1], movie_review_vectors[movie2])\n",
    "end_time = time.time()\n",
    "hand_coded_time = end_time - start_time"
   ]
  },
  {
   "cell_type": "code",
   "execution_count": null,
   "metadata": {},
   "outputs": [],
   "source": [
    "start_time = time.time()\n",
    "for _ in range(n_iterations):\n",
    "    for movie1 in movie_review_vectors:\n",
    "        for movie2 in movie_review_vectors:\n",
    "            if movie1 != movie2:\n",
    "                numpy_dot_product(movie_review_vectors[movie1], movie_review_vectors[movie2])\n",
    "end_time = time.time()\n",
    "numpy_time = end_time - start_time"
   ]
  },
  {
   "cell_type": "code",
   "execution_count": null,
   "metadata": {},
   "outputs": [
    {
     "name": "stdout",
     "output_type": "stream",
     "text": [
      "Hand-coded Dot Product Time: 2.0727 seconds\n"
     ]
    },
    {
     "ename": "NameError",
     "evalue": "name 'numpy_time' is not defined",
     "output_type": "error",
     "traceback": [
      "\u001b[1;31m---------------------------------------------------------------------------\u001b[0m",
      "\u001b[1;31mNameError\u001b[0m                                 Traceback (most recent call last)",
      "Cell \u001b[1;32mIn[17], line 2\u001b[0m\n\u001b[0;32m      1\u001b[0m \u001b[39mprint\u001b[39m(\u001b[39mf\u001b[39m\u001b[39m\"\u001b[39m\u001b[39mHand-coded Dot Product Time: \u001b[39m\u001b[39m{\u001b[39;00mhand_coded_time\u001b[39m:\u001b[39;00m\u001b[39m.4f\u001b[39m\u001b[39m}\u001b[39;00m\u001b[39m seconds\u001b[39m\u001b[39m\"\u001b[39m)\n\u001b[1;32m----> 2\u001b[0m \u001b[39mprint\u001b[39m(\u001b[39mf\u001b[39m\u001b[39m\"\u001b[39m\u001b[39mNumpy Dot Product Time: \u001b[39m\u001b[39m{\u001b[39;00mnumpy_time\u001b[39m:\u001b[39;00m\u001b[39m.4f\u001b[39m\u001b[39m}\u001b[39;00m\u001b[39m seconds\u001b[39m\u001b[39m\"\u001b[39m)\n\u001b[0;32m      3\u001b[0m \u001b[39mprint\u001b[39m(\u001b[39mf\u001b[39m\u001b[39m\"\u001b[39m\u001b[39mSpeedup: \u001b[39m\u001b[39m{\u001b[39;00mhand_coded_time\u001b[39m \u001b[39m\u001b[39m/\u001b[39m\u001b[39m \u001b[39mnumpy_time\u001b[39m:\u001b[39;00m\u001b[39m.2f\u001b[39m\u001b[39m}\u001b[39;00m\u001b[39mx\u001b[39m\u001b[39m\"\u001b[39m)\n",
      "\u001b[1;31mNameError\u001b[0m: name 'numpy_time' is not defined"
     ]
    }
   ],
   "source": [
    "print(f\"Hand-coded Dot Product Time: {hand_coded_time:.4f} seconds\")\n",
    "print(f\"Numpy Dot Product Time: {numpy_time:.4f} seconds\")\n",
    "print(f\"Speedup: {hand_coded_time / numpy_time:.2f}x\")"
   ]
  }
 ],
 "metadata": {
  "kernelspec": {
   "display_name": "AIMLSem1",
   "language": "python",
   "name": "python3"
  },
  "language_info": {
   "codemirror_mode": {
    "name": "ipython",
    "version": 3
   },
   "file_extension": ".py",
   "mimetype": "text/x-python",
   "name": "python",
   "nbconvert_exporter": "python",
   "pygments_lexer": "ipython3",
   "version": "3.9.17"
  },
  "orig_nbformat": 4
 },
 "nbformat": 4,
 "nbformat_minor": 2
}
