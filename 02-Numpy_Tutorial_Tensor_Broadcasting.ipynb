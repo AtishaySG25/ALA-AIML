{
 "cells": [
  {
   "cell_type": "markdown",
   "metadata": {},
   "source": [
    "# Numpy Tutorial (Advanced)\n",
    "\n",
    "**Note:**\n",
    "1. Mandatory pre-requisite execution: Numpy Tutorial Notebook\n",
    "2. Numpy Documentation - User Guide & API Reference: https://numpy.org/doc/stable/\n",
    "3. Cautionary Note: Watch out for the version of numpy you are using and the documentation you are referring\n",
    "\n",
    "## Table of Contents\n",
    "\n",
    "**Calculating farthest patients in a dataset**\n",
    "\n",
    "1. [Traditional approach](#single-dataset-traditional-approach)\n",
    "2. [Fancy Indexing](#fancy-indexing)\n",
    "3. [Vectorization with brute force matrix row permutation](#bruteforce-vectorization)\n",
    "4. [Digression: meshgrid and linspace](#meshgrid)\n",
    "5. [Vectorization with meshgrid](#meshgrid-vectorization)\n",
    "6. [Vectorization with triu_indices](#triu-vectorization)\n",
    "\n",
    "\n",
    "**Pairwise distance between two different set of points**\n",
    "\n",
    "1. [Traditional Approach](#traditional-two)\n",
    "2. [Direct matrix subtraction](#direct-matrix-subtract)\n",
    "2. [Brute force combination of two datasets](#bruteforce-vectorization-2)\n",
    "\n",
    "**Tensors**\n",
    "1. [Different types of visualization](#tensor-viz)\n",
    "2. [Creating Tensors](#create-tensor)\n",
    "3. [Accessing tensor elements and reshaping tensor](#access-elements)\n",
    "4. [Broadcasting by expanding dimension](#broadcast-expand)\n",
    "5. [Materializing a 2D broadcast over 3D tensor with a concrete full example](#materialize)\n",
    "6. [Broadcasting 2D array over tensor](#tensor-broadcast)\n",
    "7. [Expand and Reduce Strategy](expand-reduce)\n",
    "8. [Matrix product formula based approach - TBD](#for-future)"
   ]
  },
  {
   "cell_type": "code",
   "execution_count": 1,
   "metadata": {},
   "outputs": [],
   "source": [
    "import random \n",
    "\n",
    "import numpy as np\n",
    "import pandas as pd"
   ]
  },
  {
   "cell_type": "markdown",
   "metadata": {},
   "source": [
    "<a id='single-dataset-traditional-approach'></a>\n",
    "<hr/>"
   ]
  },
  {
   "cell_type": "markdown",
   "metadata": {},
   "source": [
    "## Calculating farthest patients in a dataset\n",
    "\n",
    "### 1. Traditional Approach"
   ]
  },
  {
   "cell_type": "code",
   "execution_count": 2,
   "metadata": {},
   "outputs": [
    {
     "name": "stdout",
     "output_type": "stream",
     "text": [
      "   HR   BP  Temp\n",
      "0  76  126  38.0\n",
      "1  74  120  38.0\n",
      "2  72  118  37.5\n",
      "3  78  136  37.0\n"
     ]
    },
    {
     "data": {
      "text/plain": [
       "array([[ 76. , 126. ,  38. ],\n",
       "       [ 74. , 120. ,  38. ],\n",
       "       [ 72. , 118. ,  37.5],\n",
       "       [ 78. , 136. ,  37. ]])"
      ]
     },
     "execution_count": 2,
     "metadata": {},
     "output_type": "execute_result"
    }
   ],
   "source": [
    "df_patient = pd.DataFrame({'HR' : [76, 74, 72, 78],\n",
    "                           'BP' : [126, 120, 118, 136],\n",
    "                           'Temp': [38, 38, 37.5, 37]})\n",
    "\n",
    "print(df_patient)\n",
    "patients = np.array(df_patient)\n",
    "patients"
   ]
  },
  {
   "cell_type": "code",
   "execution_count": 3,
   "metadata": {},
   "outputs": [],
   "source": [
    "num_patients = patients.shape[0]\n",
    "\n",
    "farthest_patient_tuple_index = None\n",
    "farthest_distance_so_far = 0\n",
    "\n",
    "for i in range (0,num_patients):\n",
    "    for j in range (0,num_patients):\n",
    "        if i==j:\n",
    "            pass\n",
    "        dist = np.linalg.norm(patients[i] - patients[j])  #linalg.norm-> dist=np.sqrt(np.sum(a-b)**2)\n",
    "        if dist > farthest_distance_so_far:\n",
    "            farthest_distance_so_far = dist\n",
    "            farthest_patient_tuple_index = (i, j)"
   ]
  },
  {
   "cell_type": "markdown",
   "metadata": {},
   "source": [
    "Add Random values to the dataset"
   ]
  },
  {
   "cell_type": "code",
   "execution_count": 13,
   "metadata": {},
   "outputs": [
    {
     "name": "stdout",
     "output_type": "stream",
     "text": [
      "    HR   BP  Temp\n",
      "0   76  126  38.0\n",
      "1   74  120  38.0\n",
      "2   72  118  37.5\n",
      "3   78  136  37.0\n",
      "4   62  127  37.0\n",
      "5   65  136  43.0\n",
      "6   72  146  43.0\n",
      "7   79  143  35.0\n",
      "8   67  116  43.0\n",
      "9   67  124  42.0\n",
      "10  61  119  39.0\n",
      "11  71  140  37.0\n",
      "12  70  138  39.0\n",
      "13  72  133  44.0\n",
      "14  68  143  44.0\n",
      "15  61  123  44.0\n",
      "16  61  111  40.0\n",
      "17  79  148  35.0\n",
      "18  73  125  44.0\n",
      "19  67  113  40.0\n"
     ]
    }
   ],
   "source": [
    "num_add = 100\n",
    "\n",
    "random_HR = np.random.randint(60, 80, size=num_add)\n",
    "random_BP = np.random.randint(110, 150, size=num_add)\n",
    "random_Temp = np.random.randint(35, 45, size=num_add)\n",
    "\n",
    "random_data = pd.DataFrame({'HR': random_HR, 'BP': random_BP, 'Temp': random_Temp})\n",
    "\n",
    "df_patient = pd.concat([df_patient, random_data], ignore_index=True)\n",
    "\n",
    "print(df_patient.head(20))"
   ]
  },
  {
   "cell_type": "code",
   "execution_count": 16,
   "metadata": {},
   "outputs": [
    {
     "name": "stdout",
     "output_type": "stream",
     "text": [
      "Farthest patients are patient-2 and patient-3\n"
     ]
    }
   ],
   "source": [
    "print(f'Farthest patients are patient-{farthest_patient_tuple_index[0]} and patient-{farthest_patient_tuple_index[1]}')"
   ]
  },
  {
   "cell_type": "markdown",
   "metadata": {},
   "source": [
    "<a id='fancy-indexing'></a>\n",
    "<hr/>"
   ]
  },
  {
   "cell_type": "markdown",
   "metadata": {},
   "source": [
    "### 2. Fancy Indexing\n",
    "\n",
    "Fancy indexing means passing an array of indices to access multiple array elements at once\n",
    "\n",
    "##### 2.1 From Indexing to Fancy Indexing - Let's do a indexing experiment"
   ]
  },
  {
   "cell_type": "code",
   "execution_count": 18,
   "metadata": {},
   "outputs": [
    {
     "data": {
      "text/plain": [
       "array([10, 11, 12, 13, 14, 15, 16, 17])"
      ]
     },
     "execution_count": 18,
     "metadata": {},
     "output_type": "execute_result"
    }
   ],
   "source": [
    "arr = np.arange(10, 18)\n",
    "arr"
   ]
  },
  {
   "cell_type": "code",
   "execution_count": 19,
   "metadata": {},
   "outputs": [
    {
     "data": {
      "text/plain": [
       "[85, 68, 37, 39, 34, 81, 97, 30, 38, 1, 59, 35, 62, 13, 52, 9]"
      ]
     },
     "execution_count": 19,
     "metadata": {},
     "output_type": "execute_result"
    }
   ],
   "source": [
    "inputNumbers =range(0,100)\n",
    "sampled_numbers = random.sample(inputNumbers, 16)\n",
    "sampled_numbers"
   ]
  },
  {
   "cell_type": "code",
   "execution_count": 23,
   "metadata": {},
   "outputs": [
    {
     "data": {
      "text/plain": [
       "array([[85, 68, 37, 39],\n",
       "       [34, 81, 97, 30],\n",
       "       [38,  1, 59, 35],\n",
       "       [62, 13, 52,  9]])"
      ]
     },
     "execution_count": 23,
     "metadata": {},
     "output_type": "execute_result"
    }
   ],
   "source": [
    "X = np.array(sampled_numbers).reshape(4, -1)\n",
    "X"
   ]
  },
  {
   "cell_type": "code",
   "execution_count": 24,
   "metadata": {},
   "outputs": [
    {
     "data": {
      "text/plain": [
       "13"
      ]
     },
     "execution_count": 24,
     "metadata": {},
     "output_type": "execute_result"
    }
   ],
   "source": [
    "X[3,1] # this is regular indexing that we have learnt till now"
   ]
  },
  {
   "cell_type": "code",
   "execution_count": 25,
   "metadata": {},
   "outputs": [
    {
     "data": {
      "text/plain": [
       "13"
      ]
     },
     "execution_count": 25,
     "metadata": {},
     "output_type": "execute_result"
    }
   ],
   "source": [
    "X[(3,1)] #providing the index as a tuple works same as earlier"
   ]
  },
  {
   "cell_type": "code",
   "execution_count": 26,
   "metadata": {},
   "outputs": [
    {
     "data": {
      "text/plain": [
       "array([[[62, 13, 52,  9],\n",
       "        [34, 81, 97, 30]],\n",
       "\n",
       "       [[38,  1, 59, 35],\n",
       "        [38,  1, 59, 35]]])"
      ]
     },
     "execution_count": 26,
     "metadata": {},
     "output_type": "execute_result"
    }
   ],
   "source": [
    "X[[(3,1),(2,2)]] #Something seems off this kind of access. Let's forget this"
   ]
  },
  {
   "cell_type": "code",
   "execution_count": 27,
   "metadata": {},
   "outputs": [
    {
     "name": "stdout",
     "output_type": "stream",
     "text": [
      "[[85 68 37 39]\n",
      " [34 81 97 30]\n",
      " [38  1 59 35]\n",
      " [62 13 52  9]]\n"
     ]
    },
    {
     "data": {
      "text/plain": [
       "array([52, 97])"
      ]
     },
     "execution_count": 27,
     "metadata": {},
     "output_type": "execute_result"
    }
   ],
   "source": [
    "print(X) #print X for reference\n",
    "\n",
    "#Let us reverse the tuple and list symbols from previous\n",
    "X[([3,1],[2,2])] # observe that the elements selected have indices (3,2) and (1,2)"
   ]
  },
  {
   "cell_type": "code",
   "execution_count": 28,
   "metadata": {},
   "outputs": [
    {
     "data": {
      "text/plain": [
       "array([52, 97])"
      ]
     },
     "execution_count": 28,
     "metadata": {},
     "output_type": "execute_result"
    }
   ],
   "source": [
    "#  Same as previous\n",
    "X[[3,1],[2,2]] # Getting rid of the tuple sign has no impact on the selection."
   ]
  },
  {
   "cell_type": "markdown",
   "metadata": {},
   "source": [
    "##### 2.2 Most important take away of this section"
   ]
  },
  {
   "cell_type": "code",
   "execution_count": 29,
   "metadata": {},
   "outputs": [
    {
     "name": "stdout",
     "output_type": "stream",
     "text": [
      "[[85 68 37 39]\n",
      " [34 81 97 30]\n",
      " [38  1 59 35]\n",
      " [62 13 52  9]]\n",
      "\n",
      "[[62 13 52  9]\n",
      " [34 81 97 30]\n",
      " [34 81 97 30]]\n"
     ]
    }
   ],
   "source": [
    "print(X) #print X a reference\n",
    "\n",
    "print(\"\")\n",
    "print(X[[3,1,1]]) # entire rows are selected when a single list of numbers provided as index "
   ]
  },
  {
   "cell_type": "markdown",
   "metadata": {},
   "source": [
    "<a id='bruteforce-vectorization'></a>\n",
    "<hr/>"
   ]
  },
  {
   "cell_type": "markdown",
   "metadata": {},
   "source": [
    "### 3. Vectorization with brute force matrix row permutation\n",
    "\n",
    "##### 3.1 Two patient matrices with different indices\n",
    "\n",
    "Create a matrix with ONLY Patient 0 data\n",
    "$$\n",
    "\\begin{bmatrix}  76 & 126 & 38 \\\\ 76 & 126 & 38 \\\\ 76 & 126 & 38 \\\\ 76 & 126 & 38  \\end{bmatrix} \n",
    "$$"
   ]
  },
  {
   "cell_type": "code",
   "execution_count": 30,
   "metadata": {},
   "outputs": [
    {
     "data": {
      "text/plain": [
       "array([[ 76., 126.,  38.],\n",
       "       [ 76., 126.,  38.],\n",
       "       [ 76., 126.,  38.],\n",
       "       [ 76., 126.,  38.]])"
      ]
     },
     "execution_count": 30,
     "metadata": {},
     "output_type": "execute_result"
    }
   ],
   "source": [
    "patients[[0,0,0,0]] # this is not duplicating data, only maintaining reference to original np array"
   ]
  },
  {
   "cell_type": "markdown",
   "metadata": {},
   "source": [
    "Take the matrix with all patient data\n",
    "$$\n",
    "\\begin{bmatrix}  76 & 126 & 38 \\\\ 74 & 120 & 38 \\\\ 72 & 118 & 37.5 \\\\ 78 & 136 & 37  \\end{bmatrix} \n",
    "$$"
   ]
  },
  {
   "cell_type": "code",
   "execution_count": 33,
   "metadata": {},
   "outputs": [
    {
     "data": {
      "text/plain": [
       "array([[ 76. , 126. ,  38. ],\n",
       "       [ 74. , 120. ,  38. ],\n",
       "       [ 72. , 118. ,  37.5],\n",
       "       [ 78. , 136. ,  37. ]])"
      ]
     },
     "execution_count": 33,
     "metadata": {},
     "output_type": "execute_result"
    }
   ],
   "source": [
    "patients[[0,1,2,3]] # this is also not duplicating data, only maintaining reference to original np array\n",
    "\n",
    "patients"
   ]
  },
  {
   "cell_type": "markdown",
   "metadata": {},
   "source": [
    "$$ \n",
    "\\begin{bmatrix}  76 & 126 & 38 \\\\ 76 & 126 & 38 \\\\ 76 & 126 & 38 \\\\ 76 & 126 & 38  \\end{bmatrix} \n",
    "-\n",
    "\\begin{bmatrix}  76 & 126 & 38 \\\\ 74 & 120 & 38 \\\\ 72 & 118 & 37.5 \\\\ 78 & 136 & 37  \\end{bmatrix} \n",
    "\n",
    "$$"
   ]
  },
  {
   "cell_type": "code",
   "execution_count": 35,
   "metadata": {},
   "outputs": [
    {
     "data": {
      "text/plain": [
       "array([[  0. ,   0. ,   0. ],\n",
       "       [  2. ,   6. ,   0. ],\n",
       "       [  4. ,   8. ,   0.5],\n",
       "       [ -2. , -10. ,   1. ]])"
      ]
     },
     "execution_count": 35,
     "metadata": {},
     "output_type": "execute_result"
    }
   ],
   "source": [
    "# Will this patient diff calculate the pairwise distance for all patients? \n",
    "patient_diffs = patients[[0,0,0,0]] - patients[[0,1,2,3]]\n",
    "patient_diffs "
   ]
  },
  {
   "cell_type": "markdown",
   "metadata": {},
   "source": [
    "The code below gives us the distance of all patients from patient 0 and finds the max"
   ]
  },
  {
   "cell_type": "code",
   "execution_count": 36,
   "metadata": {},
   "outputs": [
    {
     "data": {
      "text/plain": [
       "array([ 0.        ,  6.32455532,  8.95823643, 10.24695077])"
      ]
     },
     "execution_count": 36,
     "metadata": {},
     "output_type": "execute_result"
    }
   ],
   "source": [
    "np.linalg.norm(patient_diffs, axis=1)"
   ]
  },
  {
   "cell_type": "code",
   "execution_count": 37,
   "metadata": {},
   "outputs": [
    {
     "data": {
      "text/plain": [
       "3"
      ]
     },
     "execution_count": 37,
     "metadata": {},
     "output_type": "execute_result"
    }
   ],
   "source": [
    "np.argmax(np.linalg.norm(patient_diffs, axis=1))"
   ]
  },
  {
   "cell_type": "markdown",
   "metadata": {},
   "source": [
    "#### 3.2 Building two patient matrices for pairwise distance calculation\n",
    "\n",
    "1. How about we create two lists with row index permutations?\n",
    "2. This brute force method works!!"
   ]
  },
  {
   "cell_type": "code",
   "execution_count": 38,
   "metadata": {},
   "outputs": [
    {
     "name": "stdout",
     "output_type": "stream",
     "text": [
      "patients farthest are (2, 3)\n"
     ]
    }
   ],
   "source": [
    "idx0 = np.array([0,0,0,0,1,1,1,1,2,2,2,2,3,3,3,3])\n",
    "idx1 = np.array([0,1,2,3,0,1,2,3,0,1,2,3,0,1,2,3])\n",
    "\n",
    "patient_diffs = patients[idx0]-patients[idx1]\n",
    "maxdist_idx = np.argmax(np.linalg.norm(patient_diffs, axis=1))\n",
    "print(f\"patients farthest are {(idx0[11], idx1[11])}\")"
   ]
  },
  {
   "cell_type": "code",
   "execution_count": 39,
   "metadata": {},
   "outputs": [
    {
     "data": {
      "text/plain": [
       "array([[ 76. , 126. ,  38. ],\n",
       "       [ 76. , 126. ,  38. ],\n",
       "       [ 76. , 126. ,  38. ],\n",
       "       [ 76. , 126. ,  38. ],\n",
       "       [ 74. , 120. ,  38. ],\n",
       "       [ 74. , 120. ,  38. ],\n",
       "       [ 74. , 120. ,  38. ],\n",
       "       [ 74. , 120. ,  38. ],\n",
       "       [ 72. , 118. ,  37.5],\n",
       "       [ 72. , 118. ,  37.5],\n",
       "       [ 72. , 118. ,  37.5],\n",
       "       [ 72. , 118. ,  37.5],\n",
       "       [ 78. , 136. ,  37. ],\n",
       "       [ 78. , 136. ,  37. ],\n",
       "       [ 78. , 136. ,  37. ],\n",
       "       [ 78. , 136. ,  37. ]])"
      ]
     },
     "execution_count": 39,
     "metadata": {},
     "output_type": "execute_result"
    }
   ],
   "source": [
    "patients[idx0]"
   ]
  },
  {
   "cell_type": "code",
   "execution_count": 40,
   "metadata": {},
   "outputs": [
    {
     "data": {
      "text/plain": [
       "array([[ 76. , 126. ,  38. ],\n",
       "       [ 74. , 120. ,  38. ],\n",
       "       [ 72. , 118. ,  37.5],\n",
       "       [ 78. , 136. ,  37. ],\n",
       "       [ 76. , 126. ,  38. ],\n",
       "       [ 74. , 120. ,  38. ],\n",
       "       [ 72. , 118. ,  37.5],\n",
       "       [ 78. , 136. ,  37. ],\n",
       "       [ 76. , 126. ,  38. ],\n",
       "       [ 74. , 120. ,  38. ],\n",
       "       [ 72. , 118. ,  37.5],\n",
       "       [ 78. , 136. ,  37. ],\n",
       "       [ 76. , 126. ,  38. ],\n",
       "       [ 74. , 120. ,  38. ],\n",
       "       [ 72. , 118. ,  37.5],\n",
       "       [ 78. , 136. ,  37. ]])"
      ]
     },
     "execution_count": 40,
     "metadata": {},
     "output_type": "execute_result"
    }
   ],
   "source": [
    "patients[idx1]"
   ]
  },
  {
   "cell_type": "markdown",
   "metadata": {},
   "source": [
    "Shortcomings of the above method: \n",
    "\n",
    "1. Hardcoded indices\n",
    "2. Calculation of distance between two points (a,b) is is same as distance between (b,a). Wasteful repetitive calculation\n",
    "3. Calculation of distance from self is always zero and wasteful calculation\n",
    "\n",
    "<a id='meshgrid'></a>\n",
    "<hr/>"
   ]
  },
  {
   "cell_type": "code",
   "execution_count": null,
   "metadata": {},
   "outputs": [],
   "source": [
    "patient_diffs = patients[idx0]-patients[idx1]\n",
    "maxdist_idx = np.argmax(np.linalg.norm(patient_diffs, axis=1))\n",
    "print(f\"patients farthest are {(idx0[11], idx1[11])}\")"
   ]
  },
  {
   "cell_type": "markdown",
   "metadata": {},
   "source": [
    "### 4. Digression: meshgrid and linspace"
   ]
  },
  {
   "cell_type": "code",
   "execution_count": 41,
   "metadata": {},
   "outputs": [
    {
     "data": {
      "text/plain": [
       "array([0, 1, 2, 3])"
      ]
     },
     "execution_count": 41,
     "metadata": {},
     "output_type": "execute_result"
    }
   ],
   "source": [
    "points = np.arange(0,4)\n",
    "points"
   ]
  },
  {
   "cell_type": "code",
   "execution_count": 45,
   "metadata": {},
   "outputs": [
    {
     "data": {
      "text/plain": [
       "[array([[0, 1, 2, 3],\n",
       "        [0, 1, 2, 3],\n",
       "        [0, 1, 2, 3],\n",
       "        [0, 1, 2, 3]]),\n",
       " array([[0, 0, 0, 0],\n",
       "        [1, 1, 1, 1],\n",
       "        [2, 2, 2, 2],\n",
       "        [3, 3, 3, 3]])]"
      ]
     },
     "execution_count": 45,
     "metadata": {},
     "output_type": "execute_result"
    }
   ],
   "source": [
    "np.meshgrid(points,points)\n",
    "\n",
    "\n"
   ]
  },
  {
   "cell_type": "markdown",
   "metadata": {},
   "source": [
    "![meshgrid](https://onedrive.live.com/embed?resid=A5A4158EF1352FCB%211909&authkey=%21AAuRGlspEJ3R79U&width=500)\n",
    "\n",
    "##### 4.1 meshgrid for function evaluation over coordinate space & function plotting\n",
    "\n",
    "In combination with linspace"
   ]
  },
  {
   "cell_type": "code",
   "execution_count": 46,
   "metadata": {},
   "outputs": [],
   "source": [
    "def my_func(x, y):\n",
    "    return np.sin(4 * x) + np.cos(4 * y)"
   ]
  },
  {
   "cell_type": "code",
   "execution_count": 47,
   "metadata": {},
   "outputs": [
    {
     "data": {
      "text/plain": [
       "array([-10.        ,  -9.7979798 ,  -9.5959596 ,  -9.39393939,\n",
       "        -9.19191919,  -8.98989899,  -8.78787879,  -8.58585859,\n",
       "        -8.38383838,  -8.18181818,  -7.97979798,  -7.77777778,\n",
       "        -7.57575758,  -7.37373737,  -7.17171717,  -6.96969697,\n",
       "        -6.76767677,  -6.56565657,  -6.36363636,  -6.16161616,\n",
       "        -5.95959596,  -5.75757576,  -5.55555556,  -5.35353535,\n",
       "        -5.15151515,  -4.94949495,  -4.74747475,  -4.54545455,\n",
       "        -4.34343434,  -4.14141414,  -3.93939394,  -3.73737374,\n",
       "        -3.53535354,  -3.33333333,  -3.13131313,  -2.92929293,\n",
       "        -2.72727273,  -2.52525253,  -2.32323232,  -2.12121212,\n",
       "        -1.91919192,  -1.71717172,  -1.51515152,  -1.31313131,\n",
       "        -1.11111111,  -0.90909091,  -0.70707071,  -0.50505051,\n",
       "        -0.3030303 ,  -0.1010101 ,   0.1010101 ,   0.3030303 ,\n",
       "         0.50505051,   0.70707071,   0.90909091,   1.11111111,\n",
       "         1.31313131,   1.51515152,   1.71717172,   1.91919192,\n",
       "         2.12121212,   2.32323232,   2.52525253,   2.72727273,\n",
       "         2.92929293,   3.13131313,   3.33333333,   3.53535354,\n",
       "         3.73737374,   3.93939394,   4.14141414,   4.34343434,\n",
       "         4.54545455,   4.74747475,   4.94949495,   5.15151515,\n",
       "         5.35353535,   5.55555556,   5.75757576,   5.95959596,\n",
       "         6.16161616,   6.36363636,   6.56565657,   6.76767677,\n",
       "         6.96969697,   7.17171717,   7.37373737,   7.57575758,\n",
       "         7.77777778,   7.97979798,   8.18181818,   8.38383838,\n",
       "         8.58585859,   8.78787879,   8.98989899,   9.19191919,\n",
       "         9.39393939,   9.5959596 ,   9.7979798 ,  10.        ])"
      ]
     },
     "execution_count": 47,
     "metadata": {},
     "output_type": "execute_result"
    }
   ],
   "source": [
    "np.linspace(-10, 10, 100)"
   ]
  },
  {
   "cell_type": "code",
   "execution_count": 50,
   "metadata": {},
   "outputs": [
    {
     "name": "stdout",
     "output_type": "stream",
     "text": [
      "<class 'numpy.ndarray'>\n"
     ]
    }
   ],
   "source": [
    "XX, YY = np.meshgrid(np.linspace(-1,1,100), np.linspace(-1,1,100))\n",
    "\n",
    "print(type(XX))\n",
    "\n",
    "ZZ = my_func(XX, YY) #do you notice this is vectorized operation?"
   ]
  },
  {
   "cell_type": "code",
   "execution_count": 49,
   "metadata": {},
   "outputs": [
    {
     "data": {
      "image/png": "[encoded data removed]",
      "text/plain": [
       "<Figure size 600x800 with 1 Axes>"
      ]
     },
     "metadata": {},
     "output_type": "display_data"
    }
   ],
   "source": [
    "import matplotlib.pyplot as plt\n",
    "from mpl_toolkits.mplot3d import Axes3D\n",
    "\n",
    "fig = plt.figure(figsize=(6, 8))\n",
    "ax = fig.add_subplot(111, projection='3d')\n",
    "cmap='viridis'\n",
    "\n",
    "ax.plot_surface(XX,YY,ZZ)\n",
    "plt.show()"
   ]
  },
  {
   "cell_type": "markdown",
   "metadata": {},
   "source": [
    "<a id='meshgrid-vectorization'></a>\n",
    "<hr/>"
   ]
  },
  {
   "cell_type": "markdown",
   "metadata": {},
   "source": [
    "### 5. Automated vectorization with meshgrid"
   ]
  },
  {
   "cell_type": "code",
   "execution_count": 51,
   "metadata": {},
   "outputs": [
    {
     "name": "stdout",
     "output_type": "stream",
     "text": [
      "[[0 0 0 0]\n",
      " [1 1 1 1]\n",
      " [2 2 2 2]\n",
      " [3 3 3 3]]\n",
      "[[0 1 2 3]\n",
      " [0 1 2 3]\n",
      " [0 1 2 3]\n",
      " [0 1 2 3]]\n"
     ]
    }
   ],
   "source": [
    "points = np.arange(0,4)\n",
    "idx1, idx0 = np.meshgrid(points,points)\n",
    "print(idx0)\n",
    "print(idx1)"
   ]
  },
  {
   "cell_type": "code",
   "execution_count": 52,
   "metadata": {},
   "outputs": [
    {
     "name": "stdout",
     "output_type": "stream",
     "text": [
      "[0 0 0 0 1 1 1 1 2 2 2 2 3 3 3 3]\n",
      "[0 1 2 3 0 1 2 3 0 1 2 3 0 1 2 3]\n"
     ]
    }
   ],
   "source": [
    "idx0 = idx0.flatten()\n",
    "idx1 = idx1.flatten()\n",
    "print(idx0)\n",
    "print(idx1)"
   ]
  },
  {
   "cell_type": "code",
   "execution_count": 60,
   "metadata": {},
   "outputs": [
    {
     "data": {
      "text/plain": [
       "11"
      ]
     },
     "execution_count": 60,
     "metadata": {},
     "output_type": "execute_result"
    }
   ],
   "source": [
    "arg_max = np.argmax(np.linalg.norm(diff, axis=1))\n",
    "arg_max"
   ]
  },
  {
   "cell_type": "code",
   "execution_count": 62,
   "metadata": {},
   "outputs": [
    {
     "name": "stdout",
     "output_type": "stream",
     "text": [
      "Farthest patients are 2 and 3\n"
     ]
    }
   ],
   "source": [
    "# TODO: Fill this space to calculate the pairwise max distance without looking back\n",
    "# .... patients[idx0] - patients[idx1] ....\n",
    "\n",
    "diff = patients[idx0] - patients[idx1]\n",
    "max_distance = np.argmax(np.linalg.norm(diff, axis=1))\n",
    "print('Farthest patients are', idx0[max_distance], 'and', idx1[max_distance])\n"
   ]
  },
  {
   "cell_type": "markdown",
   "metadata": {},
   "source": [
    "Observations: We still have two problems left\n",
    "\n",
    "1. Calculation of distance between two points (a,b) is is same as distance between (b,a). Wasteful repetitive calculation\n",
    "2. Calculation of distance from self is always zero and wasteful calculation\n",
    "\n",
    "<a id='triu-vectorization'></a>\n",
    "<hr/>"
   ]
  },
  {
   "cell_type": "markdown",
   "metadata": {},
   "source": [
    "### 6. Vectorization with triu_indices\n",
    "\n",
    "##### 6.1 Eliminate redundant (a,b) and (b,a) distance calc (and have some fun with array indices)"
   ]
  },
  {
   "cell_type": "code",
   "execution_count": 63,
   "metadata": {},
   "outputs": [
    {
     "data": {
      "text/plain": [
       "array([[85, 68, 37, 39],\n",
       "       [34, 81, 97, 30],\n",
       "       [38,  1, 59, 35],\n",
       "       [62, 13, 52,  9]])"
      ]
     },
     "execution_count": 63,
     "metadata": {},
     "output_type": "execute_result"
    }
   ],
   "source": [
    "X #print for reference"
   ]
  },
  {
   "cell_type": "code",
   "execution_count": 64,
   "metadata": {},
   "outputs": [
    {
     "data": {
      "text/plain": [
       "(array([0, 0, 0, 0, 1, 1, 1, 2, 2, 3]), array([0, 1, 2, 3, 1, 2, 3, 2, 3, 3]))"
      ]
     },
     "execution_count": 64,
     "metadata": {},
     "output_type": "execute_result"
    }
   ],
   "source": [
    "indices = np.triu_indices(4) # A strangely funny name for a numpy function. Hmm.. I wonder what is it? \n",
    "indices"
   ]
  },
  {
   "cell_type": "code",
   "execution_count": 65,
   "metadata": {},
   "outputs": [
    {
     "name": "stdout",
     "output_type": "stream",
     "text": [
      "type(indices)=<class 'tuple'>\n",
      "len(indices)=2\n"
     ]
    }
   ],
   "source": [
    "print(f\"type(indices)={type(indices)}\")\n",
    "print(f\"len(indices)={len(indices)}\")"
   ]
  },
  {
   "cell_type": "code",
   "execution_count": 66,
   "metadata": {},
   "outputs": [
    {
     "name": "stdout",
     "output_type": "stream",
     "text": [
      "[0 0 0 0 1 1 1 2 2 3]\n",
      "[0 1 2 3 1 2 3 2 3 3]\n"
     ]
    }
   ],
   "source": [
    "idx0, idx1 = indices #Unpack the tuples\n",
    "print(idx0)\n",
    "print(idx1)"
   ]
  },
  {
   "cell_type": "code",
   "execution_count": 67,
   "metadata": {},
   "outputs": [
    {
     "name": "stdout",
     "output_type": "stream",
     "text": [
      "[[85 68 37 39]\n",
      " [34 81 97 30]\n",
      " [38  1 59 35]\n",
      " [62 13 52  9]]\n",
      "[85 68 37 39 81 97 30 59 35  9]\n"
     ]
    }
   ],
   "source": [
    "print(X)\n",
    "print(X[idx0, idx1]) # Selecting X elements using both indices. Can you explain what is special about the selection?"
   ]
  },
  {
   "cell_type": "code",
   "execution_count": 68,
   "metadata": {},
   "outputs": [
    {
     "data": {
      "text/plain": [
       "array([[0, 0],\n",
       "       [0, 1],\n",
       "       [0, 2],\n",
       "       [0, 3],\n",
       "       [1, 1],\n",
       "       [1, 2],\n",
       "       [1, 3],\n",
       "       [2, 2],\n",
       "       [2, 3],\n",
       "       [3, 3]])"
      ]
     },
     "execution_count": 68,
     "metadata": {},
     "output_type": "execute_result"
    }
   ],
   "source": [
    "np.hstack(\n",
    "    (\n",
    "        idx0.reshape(-1,1), idx1.reshape(-1,1)\n",
    "    )\n",
    ") #Indices you see here are the patients that will be compared. Do you see (a,b) and (b,a) duplication is gone?"
   ]
  },
  {
   "cell_type": "code",
   "execution_count": null,
   "metadata": {},
   "outputs": [],
   "source": [
    "# TODO: Fill code here to \n",
    "# create two patient matrices using idx0 and idx1, \n",
    "# find their difference and get the distance, find argmax  \n",
    "\n",
    "\n"
   ]
  },
  {
   "cell_type": "markdown",
   "metadata": {},
   "source": [
    "Observations: We still have two problems left\n",
    "\n",
    "1. Calculation of distance from self is always zero and wasteful calculation\n",
    "\n",
    "We will fix this now\n",
    "\n",
    "##### 6.2 triu_indices and k right shift"
   ]
  },
  {
   "cell_type": "code",
   "execution_count": 69,
   "metadata": {},
   "outputs": [
    {
     "data": {
      "text/plain": [
       "(array([0, 0, 0, 1, 1, 2]), array([1, 2, 3, 2, 3, 3]))"
      ]
     },
     "execution_count": 69,
     "metadata": {},
     "output_type": "execute_result"
    }
   ],
   "source": [
    "idx0, idx1 = np.triu_indices(4, k=1)\n",
    "idx0, idx1"
   ]
  },
  {
   "cell_type": "code",
   "execution_count": 70,
   "metadata": {},
   "outputs": [
    {
     "data": {
      "text/plain": [
       "array([[85, 68, 37, 39],\n",
       "       [34, 81, 97, 30],\n",
       "       [38,  1, 59, 35],\n",
       "       [62, 13, 52,  9]])"
      ]
     },
     "execution_count": 70,
     "metadata": {},
     "output_type": "execute_result"
    }
   ],
   "source": [
    "X = np.array(sampled_numbers).reshape(4,-1)\n",
    "X"
   ]
  },
  {
   "cell_type": "code",
   "execution_count": 71,
   "metadata": {},
   "outputs": [
    {
     "data": {
      "text/plain": [
       "array([68, 37, 39, 97, 30, 35])"
      ]
     },
     "execution_count": 71,
     "metadata": {},
     "output_type": "execute_result"
    }
   ],
   "source": [
    "X[idx0, idx1] #what special pattern do you see in matrix elements selected here?"
   ]
  },
  {
   "cell_type": "code",
   "execution_count": 72,
   "metadata": {},
   "outputs": [
    {
     "data": {
      "text/plain": [
       "array([[0, 1],\n",
       "       [0, 2],\n",
       "       [0, 3],\n",
       "       [1, 2],\n",
       "       [1, 3],\n",
       "       [2, 3]])"
      ]
     },
     "execution_count": 72,
     "metadata": {},
     "output_type": "execute_result"
    }
   ],
   "source": [
    "np.hstack(\n",
    "    (\n",
    "        idx0.reshape(-1,1), idx1.reshape(-1,1)\n",
    "    )\n",
    ") #Indices you see here are the patients that will be compared. Do you see self distance calc is gone?"
   ]
  },
  {
   "cell_type": "code",
   "execution_count": 74,
   "metadata": {},
   "outputs": [
    {
     "data": {
      "text/plain": [
       "5"
      ]
     },
     "execution_count": 74,
     "metadata": {},
     "output_type": "execute_result"
    }
   ],
   "source": [
    "# TODO: Fill code here to \n",
    "# create two patient matrices using idx0 and idx1, \n",
    "# find their difference and get the distance, find argmax  \n",
    "\n",
    "diff = patients[idx0] - patients[idx1]\n",
    "arg_max = np.argmax(np.linalg.norm(diff, axis= 1))\n",
    "arg_max\n"
   ]
  },
  {
   "cell_type": "markdown",
   "metadata": {},
   "source": [
    "##### 1.6 Practice Problems\n",
    "\n",
    "1. Use scipy.spatial.distance.pdist to do this exact calc in one line function call. Compare and contrast with cdist in scipy\n",
    "2. Use sklearn.metrics.pairwise_distances to do this exact calc in one line function call\n",
    "\n",
    "NOTE: sklearn has an entire <a href=\"https://scikit-learn.org/stable/modules/classes.html#module-sklearn.metrics.pairwise\">module</a> dedicated to pairwise calc"
   ]
  },
  {
   "cell_type": "code",
   "execution_count": null,
   "metadata": {},
   "outputs": [],
   "source": []
  },
  {
   "cell_type": "markdown",
   "metadata": {},
   "source": [
    "<hr/>"
   ]
  },
  {
   "cell_type": "markdown",
   "metadata": {},
   "source": [
    "## Pairwise distance between two different set of points"
   ]
  },
  {
   "cell_type": "code",
   "execution_count": 30,
   "metadata": {},
   "outputs": [],
   "source": [
    "import pandas as pd"
   ]
  },
  {
   "cell_type": "code",
   "execution_count": 31,
   "metadata": {},
   "outputs": [
    {
     "name": "stdout",
     "output_type": "stream",
     "text": [
      "   HR   BP  Temp\n",
      "0  76  126  38.0\n",
      "1  74  120  38.0\n",
      "2  72  118  37.5\n",
      "3  78  136  37.0\n",
      "4  77  122  39.0\n",
      "5  76  127  28.0\n",
      "6  75  125  37.5\n",
      "7  73  130  37.0\n"
     ]
    }
   ],
   "source": [
    "df_patient1 = pd.DataFrame({'HR' : [76, 74, 72, 78, 77, 76, 75, 73],\n",
    "                           'BP' : [126, 120, 118, 136, 122, 127, 125, 130],\n",
    "                           'Temp': [38, 38, 37.5, 37, 39, 28, 37.5, 37]})\n",
    "\n",
    "print(df_patient1)\n",
    "patients1 = df_patient1.to_numpy()"
   ]
  },
  {
   "cell_type": "code",
   "execution_count": 82,
   "metadata": {},
   "outputs": [
    {
     "name": "stdout",
     "output_type": "stream",
     "text": [
      "[[ 76.  126.   38. ]\n",
      " [ 74.  120.   38. ]\n",
      " [ 72.  118.   37.5]\n",
      " [ 78.  136.   37. ]\n",
      " [ 77.  122.   39. ]\n",
      " [ 76.  127.   28. ]\n",
      " [ 75.  125.   37.5]\n",
      " [ 73.  130.   37. ]] \n",
      "\n",
      "\n",
      " [[ 77.  132.   37. ]\n",
      " [ 79.  118.   39. ]\n",
      " [ 71.  123.   38.5]\n",
      " [ 74.  131.   36. ]\n",
      " [ 77.  121.   39.5]]\n"
     ]
    }
   ],
   "source": [
    "\n",
    "print(patients1, '\\n')\n",
    "print('\\n', patients2)"
   ]
  },
  {
   "cell_type": "code",
   "execution_count": 32,
   "metadata": {},
   "outputs": [
    {
     "name": "stdout",
     "output_type": "stream",
     "text": [
      "   HR   BP  Temp\n",
      "0  77  132  37.0\n",
      "1  79  118  39.0\n",
      "2  71  123  38.5\n",
      "3  74  131  36.0\n",
      "4  77  121  39.5\n"
     ]
    }
   ],
   "source": [
    "df_patient2 = pd.DataFrame({'HR' : [77, 79, 71, 74, 77],\n",
    "                           'BP' : [132, 118, 123, 131, 121],\n",
    "                           'Temp': [37, 39, 38.5, 36, 39.5]})\n",
    "\n",
    "print(df_patient2)\n",
    "patients2 = df_patient2.to_numpy()"
   ]
  },
  {
   "cell_type": "markdown",
   "metadata": {},
   "source": [
    "<a id='traditional-two'></a>\n",
    "<hr/>"
   ]
  },
  {
   "cell_type": "markdown",
   "metadata": {},
   "source": [
    "### 1. Traditional approach"
   ]
  },
  {
   "cell_type": "code",
   "execution_count": 83,
   "metadata": {},
   "outputs": [],
   "source": [
    "num_patients1 = patients1.shape[0]\n",
    "num_patients2 = patients2.shape[0]\n",
    "\n",
    "farthest_patient_tuple_index = None\n",
    "farthest_distance_so_far = 0\n",
    "\n",
    "for i in range (0,num_patients1):\n",
    "    for j in range (0,num_patients2):\n",
    "        if i==j:\n",
    "            pass\n",
    "        dist = np.linalg.norm(patients1[i] - patients2[j])\n",
    "        if dist > farthest_distance_so_far:\n",
    "            farthest_distance_so_far = dist\n",
    "            farthest_patient_tuple_index = (i, j)"
   ]
  },
  {
   "cell_type": "code",
   "execution_count": 84,
   "metadata": {},
   "outputs": [
    {
     "name": "stdout",
     "output_type": "stream",
     "text": [
      "Farthest patients are patient-3 and patient-1\n",
      "Distance between them is 18.138357147217054\n"
     ]
    }
   ],
   "source": [
    "print(\n",
    "    f'Farthest patients are patient-{farthest_patient_tuple_index[0]} ' + \n",
    "    f'and patient-{farthest_patient_tuple_index[1]}')\n",
    "print(f'Distance between them is {farthest_distance_so_far}')"
   ]
  },
  {
   "cell_type": "markdown",
   "metadata": {},
   "source": [
    "<a id='direct-matrix-subtract'></a>\n",
    "<hr/>"
   ]
  },
  {
   "cell_type": "markdown",
   "metadata": {},
   "source": [
    "### 2. Direct matrix subtraction"
   ]
  },
  {
   "cell_type": "code",
   "execution_count": 85,
   "metadata": {},
   "outputs": [
    {
     "ename": "ValueError",
     "evalue": "operands could not be broadcast together with shapes (8,3) (5,3) ",
     "output_type": "error",
     "traceback": [
      "\u001b[1;31m---------------------------------------------------------------------------\u001b[0m",
      "\u001b[1;31mValueError\u001b[0m                                Traceback (most recent call last)",
      "Cell \u001b[1;32mIn[85], line 1\u001b[0m\n\u001b[1;32m----> 1\u001b[0m np\u001b[39m.\u001b[39mlinalg\u001b[39m.\u001b[39mnorm(patients1 \u001b[39m-\u001b[39;49m patients2, axis\u001b[39m=\u001b[39m\u001b[39m1\u001b[39m) \u001b[39m# Will this work?\u001b[39;00m\n",
      "\u001b[1;31mValueError\u001b[0m: operands could not be broadcast together with shapes (8,3) (5,3) "
     ]
    }
   ],
   "source": [
    "np.linalg.norm(patients1 - patients2, axis=1) # Will this work?"
   ]
  },
  {
   "cell_type": "code",
   "execution_count": 86,
   "metadata": {},
   "outputs": [
    {
     "name": "stdout",
     "output_type": "stream",
     "text": [
      "patients1.shape = (8, 3)\n",
      "patients2.shape = (5, 3)\n"
     ]
    }
   ],
   "source": [
    "print(f\"patients1.shape = {patients1.shape}\")\n",
    "print(f\"patients2.shape = {patients2.shape}\")"
   ]
  },
  {
   "cell_type": "markdown",
   "metadata": {},
   "source": [
    "<a id='bruteforce-vectorization-2'></a>\n",
    "<hr/>"
   ]
  },
  {
   "cell_type": "markdown",
   "metadata": {},
   "source": [
    "##### 3. Brute force combination of two datasets"
   ]
  },
  {
   "cell_type": "code",
   "execution_count": 88,
   "metadata": {},
   "outputs": [
    {
     "name": "stdout",
     "output_type": "stream",
     "text": [
      "[[0 0 0 0 0 0 0 0]\n",
      " [1 1 1 1 1 1 1 1]\n",
      " [2 2 2 2 2 2 2 2]\n",
      " [3 3 3 3 3 3 3 3]\n",
      " [4 4 4 4 4 4 4 4]] \n",
      "\n",
      "\n",
      "[[0 1 2 3 4 5 6 7]\n",
      " [0 1 2 3 4 5 6 7]\n",
      " [0 1 2 3 4 5 6 7]\n",
      " [0 1 2 3 4 5 6 7]\n",
      " [0 1 2 3 4 5 6 7]]\n"
     ]
    }
   ],
   "source": [
    "points1 = np.arange(0,8)\n",
    "points2 = np.arange(0,5)\n",
    "idx1, idx0 = np.meshgrid(points1,points2)\n",
    "print(idx0, '\\n\\n')\n",
    "print(idx1)"
   ]
  },
  {
   "cell_type": "code",
   "execution_count": 89,
   "metadata": {},
   "outputs": [
    {
     "name": "stdout",
     "output_type": "stream",
     "text": [
      "[0 0 0 0 0 0 0 0 1 1 1 1 1 1 1 1 2 2 2 2 2 2 2 2 3 3 3 3 3 3 3 3 4 4 4 4 4\n",
      " 4 4 4]\n",
      "[0 1 2 3 4 5 6 7 0 1 2 3 4 5 6 7 0 1 2 3 4 5 6 7 0 1 2 3 4 5 6 7 0 1 2 3 4\n",
      " 5 6 7]\n"
     ]
    }
   ],
   "source": [
    "idx0 = idx0.flatten()\n",
    "idx1 = idx1.flatten()\n",
    "print(idx0)\n",
    "print(idx1)"
   ]
  },
  {
   "cell_type": "code",
   "execution_count": 90,
   "metadata": {},
   "outputs": [
    {
     "data": {
      "text/plain": [
       "array([[ -1. ,  -6. ,   1. ],\n",
       "       [ -3. , -12. ,   1. ],\n",
       "       [ -5. , -14. ,   0.5],\n",
       "       [  1. ,   4. ,   0. ],\n",
       "       [  0. , -10. ,   2. ],\n",
       "       [ -1. ,  -5. ,  -9. ],\n",
       "       [ -2. ,  -7. ,   0.5],\n",
       "       [ -4. ,  -2. ,   0. ],\n",
       "       [ -3. ,   8. ,  -1. ],\n",
       "       [ -5. ,   2. ,  -1. ],\n",
       "       [ -7. ,   0. ,  -1.5],\n",
       "       [ -1. ,  18. ,  -2. ],\n",
       "       [ -2. ,   4. ,   0. ],\n",
       "       [ -3. ,   9. , -11. ],\n",
       "       [ -4. ,   7. ,  -1.5],\n",
       "       [ -6. ,  12. ,  -2. ],\n",
       "       [  5. ,   3. ,  -0.5],\n",
       "       [  3. ,  -3. ,  -0.5],\n",
       "       [  1. ,  -5. ,  -1. ],\n",
       "       [  7. ,  13. ,  -1.5],\n",
       "       [  6. ,  -1. ,   0.5],\n",
       "       [  5. ,   4. , -10.5],\n",
       "       [  4. ,   2. ,  -1. ],\n",
       "       [  2. ,   7. ,  -1.5],\n",
       "       [  2. ,  -5. ,   2. ],\n",
       "       [  0. , -11. ,   2. ],\n",
       "       [ -2. , -13. ,   1.5],\n",
       "       [  4. ,   5. ,   1. ],\n",
       "       [  3. ,  -9. ,   3. ],\n",
       "       [  2. ,  -4. ,  -8. ],\n",
       "       [  1. ,  -6. ,   1.5],\n",
       "       [ -1. ,  -1. ,   1. ],\n",
       "       [ -1. ,   5. ,  -1.5],\n",
       "       [ -3. ,  -1. ,  -1.5],\n",
       "       [ -5. ,  -3. ,  -2. ],\n",
       "       [  1. ,  15. ,  -2.5],\n",
       "       [  0. ,   1. ,  -0.5],\n",
       "       [ -1. ,   6. , -11.5],\n",
       "       [ -2. ,   4. ,  -2. ],\n",
       "       [ -4. ,   9. ,  -2.5]])"
      ]
     },
     "execution_count": 90,
     "metadata": {},
     "output_type": "execute_result"
    }
   ],
   "source": [
    "diff_vector = patients1[idx1] - patients2[idx0]\n",
    "diff_vector"
   ]
  },
  {
   "cell_type": "code",
   "execution_count": 91,
   "metadata": {},
   "outputs": [
    {
     "data": {
      "text/plain": [
       "(40, 3)"
      ]
     },
     "execution_count": 91,
     "metadata": {},
     "output_type": "execute_result"
    }
   ],
   "source": [
    "diff_vector.shape"
   ]
  },
  {
   "cell_type": "code",
   "execution_count": 92,
   "metadata": {},
   "outputs": [
    {
     "data": {
      "text/plain": [
       "18.138357147217054"
      ]
     },
     "execution_count": 92,
     "metadata": {},
     "output_type": "execute_result"
    }
   ],
   "source": [
    "np.max(np.linalg.norm(diff_vector, axis=1))"
   ]
  },
  {
   "cell_type": "markdown",
   "metadata": {},
   "source": [
    "\n",
    "1. The above brute force vectorization approach works, but you will see antother approach soon\n",
    "2. The newer approach, although seems convoluted, is demonstrated with the aim of teaching yet another important pair of topics - Tensors and broacasting over a tensor \n",
    "\n",
    "<a id='tensor-viz'></a>\n",
    "<hr/>"
   ]
  },
  {
   "cell_type": "markdown",
   "metadata": {},
   "source": [
    "## Tensors\n",
    "\n",
    "The following different ways of tensor visualization are helpful\n",
    "1. Tensor as layer of matrices\n",
    "2. Tensor as 1-D collection of immediately lower dimension tensor\n",
    "3. Tensor as row ordered 2-D collection of immediately lower dimension tensor\n",
    "\n",
    "Different visualization are helpful at different times.\n",
    "\n",
    "### 1. Different types of visualization"
   ]
  },
  {
   "cell_type": "markdown",
   "metadata": {},
   "source": [
    "\n",
    "\n",
    "1. Logical visualization of Tensors as layers of matrices\n",
    "\n",
    "![Tensor Logical](https://onedrive.live.com/embed?resid=A5A4158EF1352FCB%211908&authkey=%21ANy1yIIMk-HuYO8&width=500)\n",
    "\n",
    "\n",
    "2. Logical visualization og RGB tensor as layers of matrices\n",
    "\n",
    "This visualization helps in double broadcasting of arrays and tensors over each other together spanning a rectange or a cuboid of space producing a grand congolomeration\n",
    "\n",
    "![RGB1](https://onedrive.live.com/embed?resid=A5A4158EF1352FCB%211899&authkey=%21AEqnVdUFicVGqEA&width=400)![RGB2](https://onedrive.live.com/embed?resid=A5A4158EF1352FCB%211900&authkey=%21AGfOyYF0ldG6FpU&width=500)\n",
    "\n",
    "\n",
    "3. Visualization as 1-D collection lower dimension\n",
    "\n",
    "- 1-D Vectors are 1-D collection of scalars\n",
    "- 2-D Tensors are 1-D collection of 1-D Vectors\n",
    "- 3-D Tensors are 1-D collection of 2-D vectors\n",
    "\n",
    "We will use this approach initially when constructing the tensors till you are warmed up to the next type of visualization\n",
    "\n",
    "![Mathematics](https://onedrive.live.com/embed?resid=A5A4158EF1352FCB%211911&authkey=%21AACrTbARFSX0BpU&width=936&height=388)\n",
    "\n",
    "\n",
    "4. Visualization as row ordered collection of lower dimension\n",
    "\n",
    "This REALLY helps while doing high dimension tensor manipulation mathematically in numpy and is most aligned with numpy internal logical structure\n",
    "\n",
    "![Math2](https://onedrive.live.com/embed?resid=A5A4158EF1352FCB%211910&authkey=%21AMdhcQ1R9jTc-UE&width=675&height=267)\n",
    "\n",
    "The numpy's internal logical structure of a 3-D tensor is as follows. Shown along with axis. This is also the direction of shape determination\n",
    "\n",
    "![numpyInternal](https://onedrive.live.com/embed?resid=A5A4158EF1352FCB%211903&authkey=%21AMaziDT6mdVYfPs)\n",
    "\n",
    "\n",
    "<a id='create-tensor'></a>\n",
    "<hr/>"
   ]
  },
  {
   "cell_type": "markdown",
   "metadata": {},
   "source": [
    "### 2. Creating Tensors"
   ]
  },
  {
   "cell_type": "code",
   "execution_count": 93,
   "metadata": {},
   "outputs": [
    {
     "data": {
      "text/plain": [
       "array([[1, 2, 3],\n",
       "       [4, 5, 6]])"
      ]
     },
     "execution_count": 93,
     "metadata": {},
     "output_type": "execute_result"
    }
   ],
   "source": [
    "# 2-D tensor (matrix) written as collection of 1D vectors\n",
    "arr1d_1 = [1,2,3]\n",
    "arr1d_2 = [4,5,6]\n",
    "\n",
    "arr2d = np.array([arr1d_1, arr1d_2]) # watch the comman between two 1d-vectors\n",
    "arr2d\n"
   ]
  },
  {
   "cell_type": "code",
   "execution_count": 94,
   "metadata": {},
   "outputs": [
    {
     "data": {
      "text/plain": [
       "array([[1, 2, 3],\n",
       "       [4, 5, 6]])"
      ]
     },
     "execution_count": 94,
     "metadata": {},
     "output_type": "execute_result"
    }
   ],
   "source": [
    "#Create the 2d array at one shot\n",
    "np.array([[1,2,3], [4,5,6]])"
   ]
  },
  {
   "cell_type": "code",
   "execution_count": 95,
   "metadata": {},
   "outputs": [
    {
     "data": {
      "text/plain": [
       "array([[[1, 2, 3],\n",
       "        [4, 5, 6]],\n",
       "\n",
       "       [[6, 5, 4],\n",
       "        [3, 2, 1]]])"
      ]
     },
     "execution_count": 95,
     "metadata": {},
     "output_type": "execute_result"
    }
   ],
   "source": [
    "#3-D tensor of 2 x 2 x 3 written as collection of 2 2-D arrays each of 2 x 3\n",
    "arr2d_1 = np.array([\n",
    "                    [1,2,3],[4,5,6]\n",
    "                    ])\n",
    "\n",
    "arr2d_2 = np.array([\n",
    "                    [6,5,4],[3,2,1]\n",
    "                ])\n",
    "\n",
    "arr3d = np.array([arr2d_1, arr2d_2,])\n",
    "arr3d"
   ]
  },
  {
   "cell_type": "code",
   "execution_count": 96,
   "metadata": {},
   "outputs": [
    {
     "data": {
      "text/plain": [
       "(2, 2, 3)"
      ]
     },
     "execution_count": 96,
     "metadata": {},
     "output_type": "execute_result"
    }
   ],
   "source": [
    "arr3d.shape"
   ]
  },
  {
   "cell_type": "code",
   "execution_count": null,
   "metadata": {},
   "outputs": [],
   "source": [
    "#create a 4D array"
   ]
  },
  {
   "cell_type": "code",
   "execution_count": 97,
   "metadata": {},
   "outputs": [],
   "source": [
    "newarr = \\\n",
    "np.array([\n",
    "    [\n",
    "        [1,2,3], [4,5,6]\n",
    "    ],\n",
    "    [\n",
    "        [6,5,4],[3,2,1]\n",
    "    ]\n",
    "])"
   ]
  },
  {
   "cell_type": "code",
   "execution_count": 98,
   "metadata": {},
   "outputs": [
    {
     "data": {
      "text/plain": [
       "(2, 2, 3)"
      ]
     },
     "execution_count": 98,
     "metadata": {},
     "output_type": "execute_result"
    }
   ],
   "source": [
    "newarr.shape"
   ]
  },
  {
   "cell_type": "markdown",
   "metadata": {},
   "source": [
    "##### Practice Problems\n",
    "\n",
    "1. Create a 3-D tensor of dimension 2 x 3 x 4 (Use the intuition that 3-D tensor is a collection of 2-D tensors) \n",
    "2. Create a 4-D tensor of dimension 2 x 3 x 4 x 2 (Use the intuition that 4-D tensor is a collection of 3-D tensors)"
   ]
  },
  {
   "cell_type": "code",
   "execution_count": null,
   "metadata": {},
   "outputs": [],
   "source": []
  },
  {
   "cell_type": "markdown",
   "metadata": {},
   "source": [
    "3. Create the 3D tensor shown here\n",
    "\n",
    "![Mathematics](https://onedrive.live.com/embed?resid=A5A4158EF1352FCB%211905&authkey=%21AHDgDKzqiepPZZQ&width=660)"
   ]
  },
  {
   "cell_type": "code",
   "execution_count": 103,
   "metadata": {},
   "outputs": [
    {
     "name": "stderr",
     "output_type": "stream",
     "text": [
      "C:\\Users\\ATISHAY SG\\AppData\\Local\\Temp\\ipykernel_19940\\2550276178.py:8: VisibleDeprecationWarning: Creating an ndarray from ragged nested sequences (which is a list-or-tuple of lists-or-tuples-or ndarrays with different lengths or shapes) is deprecated. If you meant to do this, you must specify 'dtype=object' when creating the ndarray.\n",
      "  arr_3 = np.array([arr_1, arr2_1])\n"
     ]
    }
   ],
   "source": [
    "## TODO: Create here now\n",
    "arr_1 = np.array([1])\n",
    "\n",
    "arr_2 = np.array([1,2])\n",
    "\n",
    "arr2_1 = np.array([5,6])\n",
    "\n",
    "arr_3 = np.array([arr_1, arr2_1])"
   ]
  },
  {
   "cell_type": "markdown",
   "metadata": {},
   "source": [
    "<a id='access-elements'></a>\n",
    "<hr/>"
   ]
  },
  {
   "cell_type": "markdown",
   "metadata": {},
   "source": [
    "### 3. Accessing tensor elements and reshaping tensor\n",
    "\n",
    "##### 3.1 Access tensor elements"
   ]
  },
  {
   "cell_type": "code",
   "execution_count": null,
   "metadata": {},
   "outputs": [],
   "source": [
    "arr[1,1,0]"
   ]
  },
  {
   "cell_type": "markdown",
   "metadata": {},
   "source": [
    "**Walking the tensor from right to left (innermost to outermost)**"
   ]
  },
  {
   "cell_type": "code",
   "execution_count": null,
   "metadata": {},
   "outputs": [],
   "source": [
    "x = np.array([\n",
    "        [[1, 2], [3, 4], [5, 6]], \n",
    "        [[7, 8], [9, 10], [11, 12]], \n",
    "        [[13, 14], [15, 16], [17, 18]], \n",
    "        [[19, 20], [21, 22], [23, 24]]\n",
    "    ])\n",
    "x"
   ]
  },
  {
   "cell_type": "code",
   "execution_count": null,
   "metadata": {},
   "outputs": [],
   "source": [
    "x.shape"
   ]
  },
  {
   "cell_type": "markdown",
   "metadata": {},
   "source": [
    "![scalar](https://onedrive.live.com/embed?resid=A5A4158EF1352FCB%211896&authkey=%21AFrofwtWaV2_0KI&width=256)\n",
    "\n",
    "![scalar](https://onedrive.live.com/embed?resid=A5A4158EF1352FCB%211897&authkey=%21AEmN8nBBF8GBhQk&width=256)\n",
    "\n",
    "![scalar](https://onedrive.live.com/embed?resid=A5A4158EF1352FCB%211898&authkey=%21AHsLmF_pBGdLk8c&width=519&height=337)"
   ]
  },
  {
   "cell_type": "markdown",
   "metadata": {},
   "source": [
    "##### 3.2 Reshaping tensor"
   ]
  },
  {
   "cell_type": "code",
   "execution_count": null,
   "metadata": {},
   "outputs": [],
   "source": [
    "x = np.array([\n",
    "        [1, 2, 3, 4], \n",
    "        [5, 6, 7, 8], \n",
    "        [9, 10, 11, 12], \n",
    "        [13, 14, 15, 16], \n",
    "        [17, 18, 19, 20], \n",
    "        [21, 22, 23, 24]\n",
    "    ])\n",
    "print(x) "
   ]
  },
  {
   "cell_type": "code",
   "execution_count": null,
   "metadata": {},
   "outputs": [],
   "source": [
    "x.shape"
   ]
  },
  {
   "cell_type": "code",
   "execution_count": null,
   "metadata": {},
   "outputs": [],
   "source": [
    "x.reshape((8, 3))"
   ]
  },
  {
   "cell_type": "code",
   "execution_count": null,
   "metadata": {},
   "outputs": [],
   "source": [
    "x.reshape((12, 2))"
   ]
  },
  {
   "cell_type": "code",
   "execution_count": null,
   "metadata": {},
   "outputs": [],
   "source": [
    "x.reshape((3, 4, 2))"
   ]
  },
  {
   "cell_type": "code",
   "execution_count": null,
   "metadata": {},
   "outputs": [],
   "source": [
    "x.reshape((2, 11))"
   ]
  },
  {
   "cell_type": "code",
   "execution_count": null,
   "metadata": {},
   "outputs": [],
   "source": [
    "x.reshape((2, 2, 1, 1, 2, 3))"
   ]
  },
  {
   "cell_type": "markdown",
   "metadata": {},
   "source": [
    "<a id='broadcast-expand'></a>\n",
    "<hr/>\n"
   ]
  },
  {
   "cell_type": "markdown",
   "metadata": {},
   "source": [
    "### 4. Broadcasting by expanding dimension"
   ]
  },
  {
   "cell_type": "markdown",
   "metadata": {},
   "source": [
    "##### 4.1 Adding a new axis"
   ]
  },
  {
   "cell_type": "code",
   "execution_count": 3,
   "metadata": {},
   "outputs": [],
   "source": [
    "import numpy as np"
   ]
  },
  {
   "cell_type": "code",
   "execution_count": 4,
   "metadata": {},
   "outputs": [
    {
     "name": "stdout",
     "output_type": "stream",
     "text": [
      "[0 1 2 3 4 5 6 7 8 9]\n",
      "(10,)\n"
     ]
    }
   ],
   "source": [
    "a = np.arange(10)\n",
    "print(a)\n",
    "print(a.shape)"
   ]
  },
  {
   "cell_type": "code",
   "execution_count": 5,
   "metadata": {},
   "outputs": [
    {
     "name": "stdout",
     "output_type": "stream",
     "text": [
      "[[0]\n",
      " [1]\n",
      " [2]\n",
      " [3]\n",
      " [4]\n",
      " [5]\n",
      " [6]\n",
      " [7]\n",
      " [8]\n",
      " [9]]\n",
      "(10, 1)\n"
     ]
    }
   ],
   "source": [
    "b = a[:, np.newaxis] # Newaxis at end for nparray is same as reshaping as column vector\n",
    "print(b)\n",
    "print(b.shape)"
   ]
  },
  {
   "cell_type": "code",
   "execution_count": 6,
   "metadata": {},
   "outputs": [
    {
     "name": "stdout",
     "output_type": "stream",
     "text": [
      "[[0 1 2 3 4 5 6 7 8 9]]\n",
      "(1, 10)\n"
     ]
    }
   ],
   "source": [
    "c = a[np.newaxis, :] # Newaxis at beginning for nparray is same as reshaping as row vector\n",
    "print(c)\n",
    "print(c.shape)"
   ]
  },
  {
   "cell_type": "markdown",
   "metadata": {},
   "source": [
    "##### 4.2 Broadcasting review\n",
    "\n",
    "$$\\begin{bmatrix} 1 & 2 & 3\\\\4 & 5 & 6\\end{bmatrix} + \\begin{bmatrix}1 && 2 \\end{bmatrix}$$"
   ]
  },
  {
   "cell_type": "code",
   "execution_count": 7,
   "metadata": {},
   "outputs": [
    {
     "ename": "ValueError",
     "evalue": "operands could not be broadcast together with shapes (2,3) (2,) ",
     "output_type": "error",
     "traceback": [
      "\u001b[1;31m---------------------------------------------------------------------------\u001b[0m",
      "\u001b[1;31mValueError\u001b[0m                                Traceback (most recent call last)",
      "Cell \u001b[1;32mIn[7], line 3\u001b[0m\n\u001b[0;32m      1\u001b[0m X \u001b[39m=\u001b[39m np\u001b[39m.\u001b[39marray([[\u001b[39m1\u001b[39m,\u001b[39m2\u001b[39m,\u001b[39m3\u001b[39m],[\u001b[39m4\u001b[39m,\u001b[39m5\u001b[39m,\u001b[39m6\u001b[39m]])\n\u001b[0;32m      2\u001b[0m a \u001b[39m=\u001b[39m np\u001b[39m.\u001b[39marray([\u001b[39m1\u001b[39m,\u001b[39m2\u001b[39m]) \u001b[39m#Trying broadcasting along defaul axis=0 fails due to dimension mismatch\u001b[39;00m\n\u001b[1;32m----> 3\u001b[0m X\u001b[39m+\u001b[39;49ma\n",
      "\u001b[1;31mValueError\u001b[0m: operands could not be broadcast together with shapes (2,3) (2,) "
     ]
    }
   ],
   "source": [
    "X = np.array([[1,2,3],[4,5,6]])\n",
    "a = np.array([1,2]) #Trying broadcasting along defaul axis=0 fails due to dimension mismatch\n",
    "X+a"
   ]
  },
  {
   "cell_type": "code",
   "execution_count": 8,
   "metadata": {},
   "outputs": [
    {
     "data": {
      "text/plain": [
       "array([[2, 3, 4],\n",
       "       [6, 7, 8]])"
      ]
     },
     "execution_count": 8,
     "metadata": {},
     "output_type": "execute_result"
    }
   ],
   "source": [
    "X = np.array([[1,2,3],[4,5,6]])\n",
    "a = np.array([1,2]).reshape(-1,1) #This is how we get broadcasting along axis 1\n",
    "X+a"
   ]
  },
  {
   "cell_type": "markdown",
   "metadata": {},
   "source": [
    "$$\n",
    "\\begin{bmatrix} 1 & 2 & 3\\\\4 & 5 & 6\\end{bmatrix} + \\begin{bmatrix}1 \\\\ 2 \\end{bmatrix} = \n",
    "\n",
    "\\begin{bmatrix} 1 & 2 & 3\\\\4 & 5 & 6\\end{bmatrix} + \\begin{bmatrix}1 & \\color{red}1 & \\color{red}1 \\\\ 2 & \\color{red}2 & \\color{red}2\\end{bmatrix}\n",
    "\n",
    "$$\n",
    "\n",
    "<br/>\n",
    "\n",
    "**np.newaxis : Your friend in broadcasting**"
   ]
  },
  {
   "cell_type": "code",
   "execution_count": 9,
   "metadata": {},
   "outputs": [
    {
     "name": "stdout",
     "output_type": "stream",
     "text": [
      "Shape of a before newaxis = (2,)\n",
      "Shape of a AFTER newaxis = (2, 1)\n"
     ]
    },
    {
     "data": {
      "text/plain": [
       "array([[2, 3, 4],\n",
       "       [6, 7, 8]])"
      ]
     },
     "execution_count": 9,
     "metadata": {},
     "output_type": "execute_result"
    }
   ],
   "source": [
    "X = np.array([[1,2,3],[4,5,6]])\n",
    "\n",
    "a = np.array([1,2]) \n",
    "print(f\"Shape of a before newaxis = {a.shape}\")\n",
    "\n",
    "a = a[:, np.newaxis] # This is doing the same thing as reshape above\n",
    "print(f\"Shape of a AFTER newaxis = {a.shape}\")\n",
    "\n",
    "X+a"
   ]
  },
  {
   "cell_type": "markdown",
   "metadata": {},
   "source": [
    "##### 4.3 Double broadcasting over 1-D matrix\n",
    "\n",
    "Notice that the two respectively spanning in vertical and horizontal direction create a square/rectangular area where the broadcast operation happens\n",
    "\n",
    "$$\n",
    "    \\underbrace{\\begin{bmatrix} 0 & 1 & 2\\end{bmatrix}}_{moving-down} + \n",
    "    \\underbrace{\\begin{bmatrix}0 \\\\ 1 \\\\ 2 \\end{bmatrix}}_{moving-sideways}\n",
    "$$\n",
    "\n",
    "$$\n",
    "\\begin{bmatrix} \n",
    "    0 & 1 & 2 \\\\ \n",
    "    \\color{red}0 & \\color{red}1 & \\color{red}2 \\\\ \n",
    "    \\color{red}0 & \\color{red}1 & \\color{red}2\n",
    "\\end{bmatrix} + \n",
    "\\begin{bmatrix}\n",
    "    0 & \\color{red}0 & \\color{red}0 \\\\ \n",
    "    1 & \\color{red}1 & \\color{red}1 \\\\ \n",
    "    2 & \\color{red}2 & \\color{red}2\n",
    "\\end{bmatrix}$$\n"
   ]
  },
  {
   "cell_type": "code",
   "execution_count": 10,
   "metadata": {},
   "outputs": [
    {
     "name": "stdout",
     "output_type": "stream",
     "text": [
      "[0 1 2]\n",
      "(3,)\n",
      "[[0]\n",
      " [1]\n",
      " [2]]\n",
      "(3, 1)\n"
     ]
    }
   ],
   "source": [
    "#Code for the above diagram of double broadcast \n",
    "a = np.arange(3)\n",
    "print(a)\n",
    "print(a.shape)\n",
    "\n",
    "b = np.arange(3)[:, np.newaxis] #np.newaxis puts a 1 in that axis\n",
    "print(b)\n",
    "print(b.shape)"
   ]
  },
  {
   "cell_type": "code",
   "execution_count": 11,
   "metadata": {},
   "outputs": [
    {
     "data": {
      "text/plain": [
       "array([[0, 1, 2],\n",
       "       [1, 2, 3],\n",
       "       [2, 3, 4]])"
      ]
     },
     "execution_count": 11,
     "metadata": {},
     "output_type": "execute_result"
    }
   ],
   "source": [
    "a+b"
   ]
  },
  {
   "cell_type": "markdown",
   "metadata": {},
   "source": [
    "##### 4.4 Mental models for broadcasting over 2D matrix\n",
    "\n",
    "1. First figure broadcast over only available axis\n",
    "2. Second figure broadcast over axis=0\n",
    "3. Third figure broadcast over axis=1\n",
    "\n",
    "![Broadcasting mental model](https://onedrive.live.com/embed?resid=A5A4158EF1352FCB%211892&authkey=%21AIzX_WOu2qfy67M&width=660)\n",
    "\n",
    "<a id='tensor-broadcast'></a>\n",
    "<hr/>"
   ]
  },
  {
   "cell_type": "markdown",
   "metadata": {},
   "source": [
    "### 5. Broadcasting over a Tensor\n",
    "\n",
    "NOTE: We have to bring back the mental model of a tensor with layer based visualization  to do broadcasting"
   ]
  },
  {
   "cell_type": "code",
   "execution_count": 12,
   "metadata": {},
   "outputs": [
    {
     "data": {
      "text/plain": [
       "array([[[1, 2, 3],\n",
       "        [4, 5, 6]],\n",
       "\n",
       "       [[6, 5, 4],\n",
       "        [3, 2, 1]]])"
      ]
     },
     "execution_count": 12,
     "metadata": {},
     "output_type": "execute_result"
    }
   ],
   "source": [
    "newarr = \\\n",
    "np.array([\n",
    "    [\n",
    "        [1,2,3], [4,5,6]\n",
    "    ],\n",
    "    [\n",
    "        [6,5,4],[3,2,1]\n",
    "    ]\n",
    "])\n",
    "newarr"
   ]
  },
  {
   "cell_type": "code",
   "execution_count": 13,
   "metadata": {},
   "outputs": [
    {
     "data": {
      "text/plain": [
       "(2, 2, 3)"
      ]
     },
     "execution_count": 13,
     "metadata": {},
     "output_type": "execute_result"
    }
   ],
   "source": [
    "newarr.shape"
   ]
  },
  {
   "cell_type": "markdown",
   "metadata": {},
   "source": [
    "**Scalar broadcast**"
   ]
  },
  {
   "cell_type": "code",
   "execution_count": 14,
   "metadata": {},
   "outputs": [
    {
     "data": {
      "text/plain": [
       "array([[[2, 3, 4],\n",
       "        [5, 6, 7]],\n",
       "\n",
       "       [[7, 6, 5],\n",
       "        [4, 3, 2]]])"
      ]
     },
     "execution_count": 14,
     "metadata": {},
     "output_type": "execute_result"
    }
   ],
   "source": [
    "newarr+1"
   ]
  },
  {
   "cell_type": "code",
   "execution_count": 15,
   "metadata": {},
   "outputs": [
    {
     "name": "stdout",
     "output_type": "stream",
     "text": [
      "[[[1 2 3]\n",
      "  [4 5 6]]\n",
      "\n",
      " [[6 5 4]\n",
      "  [3 2 1]]]\n"
     ]
    },
    {
     "data": {
      "text/plain": [
       "array([[[3, 4, 5],\n",
       "        [6, 7, 8]],\n",
       "\n",
       "       [[8, 7, 6],\n",
       "        [5, 4, 3]]])"
      ]
     },
     "execution_count": 15,
     "metadata": {},
     "output_type": "execute_result"
    }
   ],
   "source": [
    "print(newarr)\n",
    "newarr + np.array([2, 2, 2])"
   ]
  },
  {
   "cell_type": "markdown",
   "metadata": {},
   "source": [
    "##### 5.1 Broadcast a 2-D array over tensor (cases that do not work)\n",
    "\n",
    "**Lab activity: Draw the newarr tensor with layers**\n",
    "\n",
    "<font color=\"red\">Important Info</font> For 2D broadcast over 3D tensor, the 2D matrix dimension should match any one row or column within one tensor layer. If you want different matching to occur, then expand 2D to 3D by adding a new dimension\n"
   ]
  },
  {
   "cell_type": "code",
   "execution_count": 16,
   "metadata": {},
   "outputs": [
    {
     "name": "stdout",
     "output_type": "stream",
     "text": [
      "[[[1 2 3]\n",
      "  [4 5 6]]\n",
      "\n",
      " [[6 5 4]\n",
      "  [3 2 1]]]\n",
      "(2, 2, 3)\n",
      "\n",
      "[2 3]\n",
      "(2,)\n",
      "\n"
     ]
    },
    {
     "ename": "ValueError",
     "evalue": "operands could not be broadcast together with shapes (2,2,3) (2,) ",
     "output_type": "error",
     "traceback": [
      "\u001b[1;31m---------------------------------------------------------------------------\u001b[0m",
      "\u001b[1;31mValueError\u001b[0m                                Traceback (most recent call last)",
      "Cell \u001b[1;32mIn[16], line 10\u001b[0m\n\u001b[0;32m      7\u001b[0m \u001b[39mprint\u001b[39m(add_arr\u001b[39m.\u001b[39mshape)\n\u001b[0;32m      8\u001b[0m \u001b[39mprint\u001b[39m(\u001b[39m\"\u001b[39m\u001b[39m\"\u001b[39m)\n\u001b[1;32m---> 10\u001b[0m newarr \u001b[39m+\u001b[39;49m add_arr \u001b[39m# why did this not work?\u001b[39;00m\n",
      "\u001b[1;31mValueError\u001b[0m: operands could not be broadcast together with shapes (2,2,3) (2,) "
     ]
    }
   ],
   "source": [
    "print(newarr)\n",
    "print(newarr.shape)\n",
    "print(\"\")\n",
    "\n",
    "add_arr = np.array([2, 3])\n",
    "print(add_arr) \n",
    "print(add_arr.shape)\n",
    "print(\"\")\n",
    "\n",
    "newarr + add_arr # why did this not work?"
   ]
  },
  {
   "cell_type": "code",
   "execution_count": 17,
   "metadata": {},
   "outputs": [
    {
     "name": "stdout",
     "output_type": "stream",
     "text": [
      "[[[1 2 3]\n",
      "  [4 5 6]]\n",
      "\n",
      " [[6 5 4]\n",
      "  [3 2 1]]]\n",
      "(2, 2, 3)\n",
      "\n",
      "[[2 3]]\n",
      "(1, 2)\n",
      "\n"
     ]
    },
    {
     "ename": "ValueError",
     "evalue": "operands could not be broadcast together with shapes (2,2,3) (1,2) ",
     "output_type": "error",
     "traceback": [
      "\u001b[1;31m---------------------------------------------------------------------------\u001b[0m",
      "\u001b[1;31mValueError\u001b[0m                                Traceback (most recent call last)",
      "Cell \u001b[1;32mIn[17], line 10\u001b[0m\n\u001b[0;32m      7\u001b[0m \u001b[39mprint\u001b[39m(add_arr\u001b[39m.\u001b[39mshape)\n\u001b[0;32m      8\u001b[0m \u001b[39mprint\u001b[39m(\u001b[39m\"\u001b[39m\u001b[39m\"\u001b[39m)\n\u001b[1;32m---> 10\u001b[0m newarr \u001b[39m+\u001b[39;49m add_arr \u001b[39m# why did this not work?\u001b[39;00m\n",
      "\u001b[1;31mValueError\u001b[0m: operands could not be broadcast together with shapes (2,2,3) (1,2) "
     ]
    }
   ],
   "source": [
    "print(newarr)\n",
    "print(newarr.shape)\n",
    "print(\"\")\n",
    "\n",
    "add_arr = np.array([2, 3])[np.newaxis, :]\n",
    "print(add_arr) \n",
    "print(add_arr.shape)\n",
    "print(\"\")\n",
    "\n",
    "newarr + add_arr # why did this not work?"
   ]
  },
  {
   "cell_type": "markdown",
   "metadata": {},
   "source": [
    "##### 5.2 Broadcast a 2-D array over tensor (cases that work)\n",
    "\n",
    "<font color=\"red\">Important Info</font> For 2D broadcast over 3D tensor, the 2D matrix dimension should match any one row or column within one tensor layer. If you want different matching to occur, then expand 2D to 3D by adding a new dimension"
   ]
  },
  {
   "cell_type": "code",
   "execution_count": 18,
   "metadata": {},
   "outputs": [
    {
     "name": "stdout",
     "output_type": "stream",
     "text": [
      "[[[1 2 3]\n",
      "  [4 5 6]]\n",
      "\n",
      " [[6 5 4]\n",
      "  [3 2 1]]]\n",
      "(2, 2, 3)\n",
      "\n",
      "[[2]\n",
      " [3]]\n",
      "(2, 1)\n",
      "\n"
     ]
    },
    {
     "data": {
      "text/plain": [
       "array([[[3, 4, 5],\n",
       "        [7, 8, 9]],\n",
       "\n",
       "       [[8, 7, 6],\n",
       "        [6, 5, 4]]])"
      ]
     },
     "execution_count": 18,
     "metadata": {},
     "output_type": "execute_result"
    }
   ],
   "source": [
    "print(newarr)\n",
    "print(newarr.shape)\n",
    "print(\"\")\n",
    "\n",
    "add_arr = np.array([2, 3])[:, np.newaxis]\n",
    "print(add_arr) \n",
    "print(add_arr.shape)\n",
    "print(\"\")\n",
    "\n",
    "newarr + add_arr #why did this work?"
   ]
  },
  {
   "cell_type": "code",
   "execution_count": 19,
   "metadata": {},
   "outputs": [
    {
     "name": "stdout",
     "output_type": "stream",
     "text": [
      "[[[1 2 3]\n",
      "  [4 5 6]]\n",
      "\n",
      " [[6 5 4]\n",
      "  [3 2 1]]]\n",
      "(2, 2, 3)\n",
      "\n",
      "[[2 2 1]\n",
      " [3 2 2]]\n",
      "(2, 3)\n",
      "\n"
     ]
    },
    {
     "data": {
      "text/plain": [
       "array([[[3, 4, 4],\n",
       "        [7, 7, 8]],\n",
       "\n",
       "       [[8, 7, 5],\n",
       "        [6, 4, 3]]])"
      ]
     },
     "execution_count": 19,
     "metadata": {},
     "output_type": "execute_result"
    }
   ],
   "source": [
    "#Another example of 2D broadcast that works\n",
    "print(newarr)\n",
    "print(newarr.shape)\n",
    "print(\"\")\n",
    "\n",
    "add_arr = np.array([[2, 2, 1],[3, 2, 2]])\n",
    "print(add_arr) \n",
    "print(add_arr.shape)\n",
    "print(\"\")\n",
    "\n",
    "newarr + add_arr #why did this work?"
   ]
  },
  {
   "cell_type": "markdown",
   "metadata": {},
   "source": [
    "Visualizing an example similar to the second example above that worked\n",
    "\n",
    "![2dbroacast tensor](https://onedrive.live.com/embed?resid=A5A4158EF1352FCB%211907&authkey=%21AJOEX_3fDknagxs&width=660)"
   ]
  },
  {
   "cell_type": "markdown",
   "metadata": {},
   "source": [
    "**Teaser: Another version of 2D array broadcast over tensor by expanding dimension**"
   ]
  },
  {
   "cell_type": "code",
   "execution_count": 20,
   "metadata": {},
   "outputs": [
    {
     "name": "stdout",
     "output_type": "stream",
     "text": [
      "[[[1 2 3]\n",
      "  [4 5 6]]\n",
      "\n",
      " [[6 5 4]\n",
      "  [3 2 1]]]\n"
     ]
    },
    {
     "data": {
      "text/plain": [
       "array([[[3, 4, 4],\n",
       "        [6, 7, 7]],\n",
       "\n",
       "       [[9, 7, 6],\n",
       "        [6, 4, 3]]])"
      ]
     },
     "execution_count": 20,
     "metadata": {},
     "output_type": "execute_result"
    }
   ],
   "source": [
    "#2D array broadcast by expanding dimensions\n",
    "print(newarr)\n",
    "newarr + np.array([[2, 2, 1],[3, 2, 2]])[:, np.newaxis]  #why did this work?"
   ]
  },
  {
   "cell_type": "code",
   "execution_count": 21,
   "metadata": {},
   "outputs": [
    {
     "name": "stdout",
     "output_type": "stream",
     "text": [
      "(2, 2, 3)\n",
      "(2, 1, 3)\n"
     ]
    }
   ],
   "source": [
    "print(newarr.shape)\n",
    "print(np.array([[2, 2, 1],[3, 2, 2]])[:, np.newaxis].shape)"
   ]
  },
  {
   "cell_type": "markdown",
   "metadata": {},
   "source": [
    "To understand the above example, let us first see an example of how to tensorize 2 2D matrices and do interesting calculation with the extra dimension.\n",
    "\n",
    "<a id='materialize'></a>\n",
    "<hr/>"
   ]
  },
  {
   "cell_type": "markdown",
   "metadata": {},
   "source": [
    "### 6. Materializing a 2D broadcast over 3D Tensor with a full concrete example"
   ]
  },
  {
   "cell_type": "code",
   "execution_count": 22,
   "metadata": {},
   "outputs": [],
   "source": [
    "import numpy as np\n",
    "\n",
    "X = np.array([76, 126, 38])\n",
    "Y = np.array([74, 120, 38])\n",
    "Z = np.array([72, 118, 37.5])"
   ]
  },
  {
   "cell_type": "code",
   "execution_count": 23,
   "metadata": {},
   "outputs": [
    {
     "data": {
      "text/plain": [
       "array([[[ 76. , 126. ,  38. ],\n",
       "        [ 74. , 120. ,  38. ],\n",
       "        [ 72. , 118. ,  37.5]],\n",
       "\n",
       "       [[ 76. , 126. ,  38. ],\n",
       "        [ 74. , 120. ,  38. ],\n",
       "        [ 72. , 118. ,  37.5]],\n",
       "\n",
       "       [[ 76. , 126. ,  38. ],\n",
       "        [ 74. , 120. ,  38. ],\n",
       "        [ 72. , 118. ,  37.5]]])"
      ]
     },
     "execution_count": 23,
     "metadata": {},
     "output_type": "execute_result"
    }
   ],
   "source": [
    "arr1 = np.array([[X, Y, Z], [X, Y, Z], [X, Y, Z]])\n",
    "arr1"
   ]
  },
  {
   "cell_type": "markdown",
   "metadata": {},
   "source": [
    "![image1](https://onedrive.live.com/embed?resid=A5A4158EF1352FCB%211914&authkey=%21AJsVBfUmUDhJB0Y&width=600)"
   ]
  },
  {
   "cell_type": "code",
   "execution_count": 24,
   "metadata": {},
   "outputs": [
    {
     "data": {
      "text/plain": [
       "array([[[ 76. , 126. ,  38. ],\n",
       "        [ 76. , 126. ,  38. ],\n",
       "        [ 76. , 126. ,  38. ]],\n",
       "\n",
       "       [[ 74. , 120. ,  38. ],\n",
       "        [ 74. , 120. ,  38. ],\n",
       "        [ 74. , 120. ,  38. ]],\n",
       "\n",
       "       [[ 72. , 118. ,  37.5],\n",
       "        [ 72. , 118. ,  37.5],\n",
       "        [ 72. , 118. ,  37.5]]])"
      ]
     },
     "execution_count": 24,
     "metadata": {},
     "output_type": "execute_result"
    }
   ],
   "source": [
    "arr2 = np.array([[X, X, X], [Y, Y, Y], [Z, Z, Z]])\n",
    "arr2"
   ]
  },
  {
   "cell_type": "markdown",
   "metadata": {},
   "source": [
    "![image2](https://onedrive.live.com/embed?resid=A5A4158EF1352FCB%211913&authkey=%21AAiLJIts0nvX-yE&width=600)"
   ]
  },
  {
   "cell_type": "code",
   "execution_count": 25,
   "metadata": {},
   "outputs": [
    {
     "data": {
      "text/plain": [
       "array([[[ 0. ,  0. ,  0. ],\n",
       "        [-2. , -6. ,  0. ],\n",
       "        [-4. , -8. , -0.5]],\n",
       "\n",
       "       [[ 2. ,  6. ,  0. ],\n",
       "        [ 0. ,  0. ,  0. ],\n",
       "        [-2. , -2. , -0.5]],\n",
       "\n",
       "       [[ 4. ,  8. ,  0.5],\n",
       "        [ 2. ,  2. ,  0.5],\n",
       "        [ 0. ,  0. ,  0. ]]])"
      ]
     },
     "execution_count": 25,
     "metadata": {},
     "output_type": "execute_result"
    }
   ],
   "source": [
    "diff_vec = np.array([[X, Y, Z], [X, Y, Z], [X, Y, Z]]) - np.array([[X, X, X], [Y, Y, Y], [Z, Z, Z]])\n",
    "diff_vec"
   ]
  },
  {
   "cell_type": "markdown",
   "metadata": {},
   "source": [
    "![image3](https://onedrive.live.com/embed?resid=A5A4158EF1352FCB%211912&authkey=%21AN2jCUjz7xlnN8U&width=600)\n",
    "\n",
    "Once the difference tensor is obtained, squish it down along an axis to obtain a M x N pairwise distance matrix. Squishing becomes possible because norm() is an aggregation/reducing function "
   ]
  },
  {
   "cell_type": "code",
   "execution_count": 26,
   "metadata": {},
   "outputs": [
    {
     "data": {
      "text/plain": [
       "array([[ 0. ,  8. , 12.5],\n",
       "       [ 8. ,  0. ,  4.5],\n",
       "       [12.5,  4.5,  0. ]])"
      ]
     },
     "execution_count": 26,
     "metadata": {},
     "output_type": "execute_result"
    }
   ],
   "source": [
    "np.linalg.norm(diff_vec, ord=1, axis=2) #squish down along a axis so that we get a 3 x 3 matrix"
   ]
  },
  {
   "cell_type": "markdown",
   "metadata": {},
   "source": [
    "**Summarizing the efforts as a 2D broadcast**\n",
    "\n",
    "![image4](https://onedrive.live.com/embed?resid=A5A4158EF1352FCB%211915&authkey=%21ALMEjGQoU3n2MzI&width=600)\n",
    "\n",
    "\n",
    "Visualing the spanning of two tensors using a galaxy collision example\n",
    "\n",
    "https://www.youtube.com/watch?v=orQvuAPYGkQ\n"
   ]
  },
  {
   "cell_type": "markdown",
   "metadata": {},
   "source": [
    "<a id='expand-reduce'></a>\n",
    "<hr/>"
   ]
  },
  {
   "cell_type": "markdown",
   "metadata": {},
   "source": [
    "### 7. Expand and reduce dimension strategy\n",
    "\n",
    "##### 7.1 Visualizing the approach"
   ]
  },
  {
   "cell_type": "code",
   "execution_count": 33,
   "metadata": {},
   "outputs": [
    {
     "name": "stdout",
     "output_type": "stream",
     "text": [
      "(8, 3)\n",
      "(5, 3)\n"
     ]
    }
   ],
   "source": [
    "print(patients1.shape)\n",
    "print(patients2.shape)"
   ]
  },
  {
   "cell_type": "markdown",
   "metadata": {},
   "source": [
    "**Visualizing tensors spanning over a combined patient cuboid**\n",
    "\n",
    "![tensor](https://onedrive.live.com/embed?resid=A5A4158EF1352FCB%211893&authkey=%21ANl-5Tk5ZIo37pk&width=700)"
   ]
  },
  {
   "cell_type": "code",
   "execution_count": 34,
   "metadata": {},
   "outputs": [
    {
     "data": {
      "text/plain": [
       "array([[[ 76. , 126. ,  38. ]],\n",
       "\n",
       "       [[ 74. , 120. ,  38. ]],\n",
       "\n",
       "       [[ 72. , 118. ,  37.5]],\n",
       "\n",
       "       [[ 78. , 136. ,  37. ]],\n",
       "\n",
       "       [[ 77. , 122. ,  39. ]],\n",
       "\n",
       "       [[ 76. , 127. ,  28. ]],\n",
       "\n",
       "       [[ 75. , 125. ,  37.5]],\n",
       "\n",
       "       [[ 73. , 130. ,  37. ]]])"
      ]
     },
     "execution_count": 34,
     "metadata": {},
     "output_type": "execute_result"
    }
   ],
   "source": [
    "patients1[:, np.newaxis, :]"
   ]
  },
  {
   "cell_type": "code",
   "execution_count": 35,
   "metadata": {},
   "outputs": [
    {
     "data": {
      "text/plain": [
       "(8, 1, 3)"
      ]
     },
     "execution_count": 35,
     "metadata": {},
     "output_type": "execute_result"
    }
   ],
   "source": [
    "patients1[:, np.newaxis, :].shape"
   ]
  },
  {
   "cell_type": "code",
   "execution_count": 36,
   "metadata": {},
   "outputs": [
    {
     "data": {
      "text/plain": [
       "array([[[ 77. , 132. ,  37. ],\n",
       "        [ 79. , 118. ,  39. ],\n",
       "        [ 71. , 123. ,  38.5],\n",
       "        [ 74. , 131. ,  36. ],\n",
       "        [ 77. , 121. ,  39.5]]])"
      ]
     },
     "execution_count": 36,
     "metadata": {},
     "output_type": "execute_result"
    }
   ],
   "source": [
    "patients2[np.newaxis, :, :]"
   ]
  },
  {
   "cell_type": "code",
   "execution_count": 37,
   "metadata": {},
   "outputs": [
    {
     "data": {
      "text/plain": [
       "(1, 5, 3)"
      ]
     },
     "execution_count": 37,
     "metadata": {},
     "output_type": "execute_result"
    }
   ],
   "source": [
    "patients2[np.newaxis, :, :].shape"
   ]
  },
  {
   "cell_type": "code",
   "execution_count": 38,
   "metadata": {},
   "outputs": [
    {
     "data": {
      "text/plain": [
       "(8, 5, 3)"
      ]
     },
     "execution_count": 38,
     "metadata": {},
     "output_type": "execute_result"
    }
   ],
   "source": [
    "deltas = patients1[:, None, :] - patients2[None, :, :] # np.newaxis is an alias for None\n",
    "deltas.shape"
   ]
  },
  {
   "cell_type": "code",
   "execution_count": 39,
   "metadata": {},
   "outputs": [
    {
     "data": {
      "text/plain": [
       "array([[[ -1. ,  -6. ,   1. ],\n",
       "        [ -3. ,   8. ,  -1. ],\n",
       "        [  5. ,   3. ,  -0.5],\n",
       "        [  2. ,  -5. ,   2. ],\n",
       "        [ -1. ,   5. ,  -1.5]],\n",
       "\n",
       "       [[ -3. , -12. ,   1. ],\n",
       "        [ -5. ,   2. ,  -1. ],\n",
       "        [  3. ,  -3. ,  -0.5],\n",
       "        [  0. , -11. ,   2. ],\n",
       "        [ -3. ,  -1. ,  -1.5]],\n",
       "\n",
       "       [[ -5. , -14. ,   0.5],\n",
       "        [ -7. ,   0. ,  -1.5],\n",
       "        [  1. ,  -5. ,  -1. ],\n",
       "        [ -2. , -13. ,   1.5],\n",
       "        [ -5. ,  -3. ,  -2. ]],\n",
       "\n",
       "       [[  1. ,   4. ,   0. ],\n",
       "        [ -1. ,  18. ,  -2. ],\n",
       "        [  7. ,  13. ,  -1.5],\n",
       "        [  4. ,   5. ,   1. ],\n",
       "        [  1. ,  15. ,  -2.5]],\n",
       "\n",
       "       [[  0. , -10. ,   2. ],\n",
       "        [ -2. ,   4. ,   0. ],\n",
       "        [  6. ,  -1. ,   0.5],\n",
       "        [  3. ,  -9. ,   3. ],\n",
       "        [  0. ,   1. ,  -0.5]],\n",
       "\n",
       "       [[ -1. ,  -5. ,  -9. ],\n",
       "        [ -3. ,   9. , -11. ],\n",
       "        [  5. ,   4. , -10.5],\n",
       "        [  2. ,  -4. ,  -8. ],\n",
       "        [ -1. ,   6. , -11.5]],\n",
       "\n",
       "       [[ -2. ,  -7. ,   0.5],\n",
       "        [ -4. ,   7. ,  -1.5],\n",
       "        [  4. ,   2. ,  -1. ],\n",
       "        [  1. ,  -6. ,   1.5],\n",
       "        [ -2. ,   4. ,  -2. ]],\n",
       "\n",
       "       [[ -4. ,  -2. ,   0. ],\n",
       "        [ -6. ,  12. ,  -2. ],\n",
       "        [  2. ,   7. ,  -1.5],\n",
       "        [ -1. ,  -1. ,   1. ],\n",
       "        [ -4. ,   9. ,  -2.5]]])"
      ]
     },
     "execution_count": 39,
     "metadata": {},
     "output_type": "execute_result"
    }
   ],
   "source": [
    "deltas"
   ]
  },
  {
   "cell_type": "code",
   "execution_count": 40,
   "metadata": {},
   "outputs": [
    {
     "data": {
      "text/plain": [
       "array([[ 6.164414  ,  8.60232527,  5.85234996,  5.74456265,  5.31507291],\n",
       "       [12.40967365,  5.47722558,  4.27200187, 11.18033989,  3.5       ],\n",
       "       [14.87447478,  7.15891053,  5.19615242, 13.23820229,  6.164414  ],\n",
       "       [ 4.12310563, 18.13835715, 14.84082208,  6.4807407 , 15.23975065],\n",
       "       [10.19803903,  4.47213595,  6.10327781,  9.94987437,  1.11803399],\n",
       "       [10.34408043, 14.52583905, 12.29837388,  9.16515139, 13.00961183],\n",
       "       [ 7.29725976,  8.20060973,  4.58257569,  6.26498204,  4.89897949],\n",
       "       [ 4.47213595, 13.56465997,  7.43303437,  1.73205081, 10.16120072]])"
      ]
     },
     "execution_count": 40,
     "metadata": {},
     "output_type": "execute_result"
    }
   ],
   "source": [
    "np.linalg.norm(deltas, axis=2)"
   ]
  },
  {
   "cell_type": "code",
   "execution_count": 41,
   "metadata": {},
   "outputs": [
    {
     "data": {
      "text/plain": [
       "18.138357147217054"
      ]
     },
     "execution_count": 41,
     "metadata": {},
     "output_type": "execute_result"
    }
   ],
   "source": [
    "np.max(np.linalg.norm(deltas, axis=2))"
   ]
  },
  {
   "cell_type": "markdown",
   "metadata": {},
   "source": [
    "**Generalizing this approach**\n",
    "To vectorize a pairwise similarity metric between M D-dimensional points with shape (M, D) and N D-dimensional points with shape (N, D), two steps are performed:\n",
    "\n",
    "1. **Expand**: Expand to two tensors of (M, 1, D) and (1, N, D) and with broadcasting produce expanded array of (M, N, D)\n",
    "2. **Reduce**: Use an aggregate operation (sum, max, min, mean, norm) to reduce the last dimension, creating a matrix with shape (M, N)"
   ]
  },
  {
   "cell_type": "code",
   "execution_count": null,
   "metadata": {},
   "outputs": [],
   "source": []
  },
  {
   "cell_type": "markdown",
   "metadata": {},
   "source": [
    "### 8. Matrix product based approach TBD (for future) "
   ]
  },
  {
   "cell_type": "code",
   "execution_count": null,
   "metadata": {},
   "outputs": [],
   "source": []
  }
 ],
 "metadata": {
  "kernelspec": {
   "display_name": "quickstart",
   "language": "python",
   "name": "python3"
  },
  "language_info": {
   "codemirror_mode": {
    "name": "ipython",
    "version": 3
   },
   "file_extension": ".py",
   "mimetype": "text/x-python",
   "name": "python",
   "nbconvert_exporter": "python",
   "pygments_lexer": "ipython3",
   "version": "3.9.17"
  },
  "orig_nbformat": 4
 },
 "nbformat": 4,
 "nbformat_minor": 2
}
