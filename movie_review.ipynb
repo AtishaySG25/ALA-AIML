{
  "cells": [
    {
      "cell_type": "markdown",
      "metadata": {
        "id": "view-in-github",
        "colab_type": "text"
      },
      "source": [
        "<a href=\"https://colab.research.google.com/github/AtishaySG25/ALA-AIML/blob/main/movie_review.ipynb\" target=\"_parent\"><img src=\"https://colab.research.google.com/assets/colab-badge.svg\" alt=\"Open In Colab\"/></a>"
      ]
    },
    {
      "cell_type": "code",
      "execution_count": 1,
      "metadata": {
        "id": "qvEhpYDWFkDs"
      },
      "outputs": [],
      "source": [
        "import pandas as pd\n",
        "import numpy as np\n",
        "import time"
      ]
    },
    {
      "cell_type": "markdown",
      "metadata": {
        "id": "bJAr1GoOFkDx"
      },
      "source": [
        "Here I have imported the required libraries, that is, numpy for vector operations and pandas for importing data"
      ]
    },
    {
      "cell_type": "code",
      "execution_count": 6,
      "metadata": {
        "colab": {
          "base_uri": "https://localhost:8080/",
          "height": 241
        },
        "id": "4d0f_0N4FkD0",
        "outputId": "decd136e-c03a-4470-d983-ac1db377c582"
      },
      "outputs": [
        {
          "output_type": "execute_result",
          "data": {
            "text/plain": [
              "                                  movie  \\\n",
              "0  The Lord of the Rings The Two Towers   \n",
              "1                             Inception   \n",
              "2     Spiderman Across the spider verse   \n",
              "3                       The Dark Knight   \n",
              "4                      Three colors red   \n",
              "\n",
              "                                              review  \n",
              "0  remarkable display of fantasy action powerful ...  \n",
              "1  implanting stealing idea destroy gripping acti...  \n",
              "2  mind bending wild action sequences intimate em...  \n",
              "3  Best live action portrayal beat organized crim...  \n",
              "4  mesmerising friendship turned love profound un...  "
            ],
            "text/html": [
              "\n",
              "  <div id=\"df-fe2db601-140b-4483-b8cd-4d966b0b74e1\" class=\"colab-df-container\">\n",
              "    <div>\n",
              "<style scoped>\n",
              "    .dataframe tbody tr th:only-of-type {\n",
              "        vertical-align: middle;\n",
              "    }\n",
              "\n",
              "    .dataframe tbody tr th {\n",
              "        vertical-align: top;\n",
              "    }\n",
              "\n",
              "    .dataframe thead th {\n",
              "        text-align: right;\n",
              "    }\n",
              "</style>\n",
              "<table border=\"1\" class=\"dataframe\">\n",
              "  <thead>\n",
              "    <tr style=\"text-align: right;\">\n",
              "      <th></th>\n",
              "      <th>movie</th>\n",
              "      <th>review</th>\n",
              "    </tr>\n",
              "  </thead>\n",
              "  <tbody>\n",
              "    <tr>\n",
              "      <th>0</th>\n",
              "      <td>The Lord of the Rings The Two Towers</td>\n",
              "      <td>remarkable display of fantasy action powerful ...</td>\n",
              "    </tr>\n",
              "    <tr>\n",
              "      <th>1</th>\n",
              "      <td>Inception</td>\n",
              "      <td>implanting stealing idea destroy gripping acti...</td>\n",
              "    </tr>\n",
              "    <tr>\n",
              "      <th>2</th>\n",
              "      <td>Spiderman Across the spider verse</td>\n",
              "      <td>mind bending wild action sequences intimate em...</td>\n",
              "    </tr>\n",
              "    <tr>\n",
              "      <th>3</th>\n",
              "      <td>The Dark Knight</td>\n",
              "      <td>Best live action portrayal beat organized crim...</td>\n",
              "    </tr>\n",
              "    <tr>\n",
              "      <th>4</th>\n",
              "      <td>Three colors red</td>\n",
              "      <td>mesmerising friendship turned love profound un...</td>\n",
              "    </tr>\n",
              "  </tbody>\n",
              "</table>\n",
              "</div>\n",
              "    <div class=\"colab-df-buttons\">\n",
              "\n",
              "  <div class=\"colab-df-container\">\n",
              "    <button class=\"colab-df-convert\" onclick=\"convertToInteractive('df-fe2db601-140b-4483-b8cd-4d966b0b74e1')\"\n",
              "            title=\"Convert this dataframe to an interactive table.\"\n",
              "            style=\"display:none;\">\n",
              "\n",
              "  <svg xmlns=\"http://www.w3.org/2000/svg\" height=\"24px\" viewBox=\"0 -960 960 960\">\n",
              "    <path d=\"M120-120v-720h720v720H120Zm60-500h600v-160H180v160Zm220 220h160v-160H400v160Zm0 220h160v-160H400v160ZM180-400h160v-160H180v160Zm440 0h160v-160H620v160ZM180-180h160v-160H180v160Zm440 0h160v-160H620v160Z\"/>\n",
              "  </svg>\n",
              "    </button>\n",
              "\n",
              "  <style>\n",
              "    .colab-df-container {\n",
              "      display:flex;\n",
              "      gap: 12px;\n",
              "    }\n",
              "\n",
              "    .colab-df-convert {\n",
              "      background-color: #E8F0FE;\n",
              "      border: none;\n",
              "      border-radius: 50%;\n",
              "      cursor: pointer;\n",
              "      display: none;\n",
              "      fill: #1967D2;\n",
              "      height: 32px;\n",
              "      padding: 0 0 0 0;\n",
              "      width: 32px;\n",
              "    }\n",
              "\n",
              "    .colab-df-convert:hover {\n",
              "      background-color: #E2EBFA;\n",
              "      box-shadow: 0px 1px 2px rgba(60, 64, 67, 0.3), 0px 1px 3px 1px rgba(60, 64, 67, 0.15);\n",
              "      fill: #174EA6;\n",
              "    }\n",
              "\n",
              "    .colab-df-buttons div {\n",
              "      margin-bottom: 4px;\n",
              "    }\n",
              "\n",
              "    [theme=dark] .colab-df-convert {\n",
              "      background-color: #3B4455;\n",
              "      fill: #D2E3FC;\n",
              "    }\n",
              "\n",
              "    [theme=dark] .colab-df-convert:hover {\n",
              "      background-color: #434B5C;\n",
              "      box-shadow: 0px 1px 3px 1px rgba(0, 0, 0, 0.15);\n",
              "      filter: drop-shadow(0px 1px 2px rgba(0, 0, 0, 0.3));\n",
              "      fill: #FFFFFF;\n",
              "    }\n",
              "  </style>\n",
              "\n",
              "    <script>\n",
              "      const buttonEl =\n",
              "        document.querySelector('#df-fe2db601-140b-4483-b8cd-4d966b0b74e1 button.colab-df-convert');\n",
              "      buttonEl.style.display =\n",
              "        google.colab.kernel.accessAllowed ? 'block' : 'none';\n",
              "\n",
              "      async function convertToInteractive(key) {\n",
              "        const element = document.querySelector('#df-fe2db601-140b-4483-b8cd-4d966b0b74e1');\n",
              "        const dataTable =\n",
              "          await google.colab.kernel.invokeFunction('convertToInteractive',\n",
              "                                                    [key], {});\n",
              "        if (!dataTable) return;\n",
              "\n",
              "        const docLinkHtml = 'Like what you see? Visit the ' +\n",
              "          '<a target=\"_blank\" href=https://colab.research.google.com/notebooks/data_table.ipynb>data table notebook</a>'\n",
              "          + ' to learn more about interactive tables.';\n",
              "        element.innerHTML = '';\n",
              "        dataTable['output_type'] = 'display_data';\n",
              "        await google.colab.output.renderOutput(dataTable, element);\n",
              "        const docLink = document.createElement('div');\n",
              "        docLink.innerHTML = docLinkHtml;\n",
              "        element.appendChild(docLink);\n",
              "      }\n",
              "    </script>\n",
              "  </div>\n",
              "\n",
              "\n",
              "<div id=\"df-0ad7c98b-0e0d-478e-ad27-57ec6f921898\">\n",
              "  <button class=\"colab-df-quickchart\" onclick=\"quickchart('df-0ad7c98b-0e0d-478e-ad27-57ec6f921898')\"\n",
              "            title=\"Suggest charts.\"\n",
              "            style=\"display:none;\">\n",
              "\n",
              "<svg xmlns=\"http://www.w3.org/2000/svg\" height=\"24px\"viewBox=\"0 0 24 24\"\n",
              "     width=\"24px\">\n",
              "    <g>\n",
              "        <path d=\"M19 3H5c-1.1 0-2 .9-2 2v14c0 1.1.9 2 2 2h14c1.1 0 2-.9 2-2V5c0-1.1-.9-2-2-2zM9 17H7v-7h2v7zm4 0h-2V7h2v10zm4 0h-2v-4h2v4z\"/>\n",
              "    </g>\n",
              "</svg>\n",
              "  </button>\n",
              "\n",
              "<style>\n",
              "  .colab-df-quickchart {\n",
              "    background-color: #E8F0FE;\n",
              "    border: none;\n",
              "    border-radius: 50%;\n",
              "    cursor: pointer;\n",
              "    display: none;\n",
              "    fill: #1967D2;\n",
              "    height: 32px;\n",
              "    padding: 0 0 0 0;\n",
              "    width: 32px;\n",
              "  }\n",
              "\n",
              "  .colab-df-quickchart:hover {\n",
              "    background-color: #E2EBFA;\n",
              "    box-shadow: 0px 1px 2px rgba(60, 64, 67, 0.3), 0px 1px 3px 1px rgba(60, 64, 67, 0.15);\n",
              "    fill: #174EA6;\n",
              "  }\n",
              "\n",
              "  [theme=dark] .colab-df-quickchart {\n",
              "    background-color: #3B4455;\n",
              "    fill: #D2E3FC;\n",
              "  }\n",
              "\n",
              "  [theme=dark] .colab-df-quickchart:hover {\n",
              "    background-color: #434B5C;\n",
              "    box-shadow: 0px 1px 3px 1px rgba(0, 0, 0, 0.15);\n",
              "    filter: drop-shadow(0px 1px 2px rgba(0, 0, 0, 0.3));\n",
              "    fill: #FFFFFF;\n",
              "  }\n",
              "</style>\n",
              "\n",
              "  <script>\n",
              "    async function quickchart(key) {\n",
              "      const charts = await google.colab.kernel.invokeFunction(\n",
              "          'suggestCharts', [key], {});\n",
              "    }\n",
              "    (() => {\n",
              "      let quickchartButtonEl =\n",
              "        document.querySelector('#df-0ad7c98b-0e0d-478e-ad27-57ec6f921898 button');\n",
              "      quickchartButtonEl.style.display =\n",
              "        google.colab.kernel.accessAllowed ? 'block' : 'none';\n",
              "    })();\n",
              "  </script>\n",
              "</div>\n",
              "    </div>\n",
              "  </div>\n"
            ]
          },
          "metadata": {},
          "execution_count": 6
        }
      ],
      "source": [
        "#load the movie_review dataset\n",
        "df = pd.read_csv('/content/moviereviews.csv')\n",
        "df.head(5)\n"
      ]
    },
    {
      "cell_type": "markdown",
      "metadata": {
        "id": "e7Wn7o7lFkD3"
      },
      "source": [
        "importing the dataset and displaying the first 5 columns of the dataset"
      ]
    },
    {
      "cell_type": "code",
      "execution_count": 7,
      "metadata": {
        "colab": {
          "base_uri": "https://localhost:8080/"
        },
        "id": "EkEJubkiFkD4",
        "outputId": "8d25a2c5-15ea-48c2-9c19-242726c4a346"
      },
      "outputs": [
        {
          "output_type": "stream",
          "name": "stdout",
          "text": [
            "movie     False\n",
            "review    False\n",
            "dtype: bool\n",
            "movie     0\n",
            "review    0\n",
            "dtype: int64\n",
            "13\n"
          ]
        }
      ],
      "source": [
        "print(df.isna().any())\n",
        "print(df.isna().sum())\n",
        "\n",
        "print(df['review'].nunique())"
      ]
    },
    {
      "cell_type": "markdown",
      "metadata": {
        "id": "Mv6SCzwyFkD5"
      },
      "source": [
        "checks the missing values\n",
        "prints the number of missing values\n",
        "prints the number of unique values"
      ]
    },
    {
      "cell_type": "code",
      "execution_count": 8,
      "metadata": {
        "colab": {
          "base_uri": "https://localhost:8080/",
          "height": 543
        },
        "id": "MK73NKPiFkD6",
        "outputId": "75240d72-100f-461b-ae7e-f73da8cfbcb2"
      },
      "outputs": [
        {
          "output_type": "execute_result",
          "data": {
            "text/plain": [
              "                                    movie  \\\n",
              "0    The Lord of the Rings The Two Towers   \n",
              "1                               Inception   \n",
              "2       Spiderman Across the spider verse   \n",
              "3                         The Dark Knight   \n",
              "4                        Three colors red   \n",
              "5                   It happened one night   \n",
              "6                    In the Mood for Love   \n",
              "7                          Before Sunrise   \n",
              "8                      Gone with the wind   \n",
              "9   Eternal Sunshine of the Spotless Mind   \n",
              "10               The Shawshank Redemption   \n",
              "11                            Raging Bull   \n",
              "12                     Lawrence of Arabia   \n",
              "\n",
              "                                               review  \n",
              "0   remarkable display of fantasy action powerful ...  \n",
              "1   implanting stealing idea destroy gripping acti...  \n",
              "2   mind bending wild action sequences intimate em...  \n",
              "3   Best live action portrayal beat organized crim...  \n",
              "4   mesmerising friendship turned love profound un...  \n",
              "5   Romantic comedy screwball comedy enduring tale...  \n",
              "6   Neighbors solace bonding affair predicament sp...  \n",
              "7   blossoming love know each other chance encount...  \n",
              "8   epic romance greatest romantic film ever made ...  \n",
              "9   Length people go finding love of life emotiona...  \n",
              "10  movie about friendship life fight to be good p...  \n",
              "11  brutal boxing sports movie turbulent life outs...  \n",
              "12  classic adventure war movie psychological dram...  "
            ],
            "text/html": [
              "\n",
              "  <div id=\"df-99ca4759-565b-4414-863a-0af83773c829\" class=\"colab-df-container\">\n",
              "    <div>\n",
              "<style scoped>\n",
              "    .dataframe tbody tr th:only-of-type {\n",
              "        vertical-align: middle;\n",
              "    }\n",
              "\n",
              "    .dataframe tbody tr th {\n",
              "        vertical-align: top;\n",
              "    }\n",
              "\n",
              "    .dataframe thead th {\n",
              "        text-align: right;\n",
              "    }\n",
              "</style>\n",
              "<table border=\"1\" class=\"dataframe\">\n",
              "  <thead>\n",
              "    <tr style=\"text-align: right;\">\n",
              "      <th></th>\n",
              "      <th>movie</th>\n",
              "      <th>review</th>\n",
              "    </tr>\n",
              "  </thead>\n",
              "  <tbody>\n",
              "    <tr>\n",
              "      <th>0</th>\n",
              "      <td>The Lord of the Rings The Two Towers</td>\n",
              "      <td>remarkable display of fantasy action powerful ...</td>\n",
              "    </tr>\n",
              "    <tr>\n",
              "      <th>1</th>\n",
              "      <td>Inception</td>\n",
              "      <td>implanting stealing idea destroy gripping acti...</td>\n",
              "    </tr>\n",
              "    <tr>\n",
              "      <th>2</th>\n",
              "      <td>Spiderman Across the spider verse</td>\n",
              "      <td>mind bending wild action sequences intimate em...</td>\n",
              "    </tr>\n",
              "    <tr>\n",
              "      <th>3</th>\n",
              "      <td>The Dark Knight</td>\n",
              "      <td>Best live action portrayal beat organized crim...</td>\n",
              "    </tr>\n",
              "    <tr>\n",
              "      <th>4</th>\n",
              "      <td>Three colors red</td>\n",
              "      <td>mesmerising friendship turned love profound un...</td>\n",
              "    </tr>\n",
              "    <tr>\n",
              "      <th>5</th>\n",
              "      <td>It happened one night</td>\n",
              "      <td>Romantic comedy screwball comedy enduring tale...</td>\n",
              "    </tr>\n",
              "    <tr>\n",
              "      <th>6</th>\n",
              "      <td>In the Mood for Love</td>\n",
              "      <td>Neighbors solace bonding affair predicament sp...</td>\n",
              "    </tr>\n",
              "    <tr>\n",
              "      <th>7</th>\n",
              "      <td>Before Sunrise</td>\n",
              "      <td>blossoming love know each other chance encount...</td>\n",
              "    </tr>\n",
              "    <tr>\n",
              "      <th>8</th>\n",
              "      <td>Gone with the wind</td>\n",
              "      <td>epic romance greatest romantic film ever made ...</td>\n",
              "    </tr>\n",
              "    <tr>\n",
              "      <th>9</th>\n",
              "      <td>Eternal Sunshine of the Spotless Mind</td>\n",
              "      <td>Length people go finding love of life emotiona...</td>\n",
              "    </tr>\n",
              "    <tr>\n",
              "      <th>10</th>\n",
              "      <td>The Shawshank Redemption</td>\n",
              "      <td>movie about friendship life fight to be good p...</td>\n",
              "    </tr>\n",
              "    <tr>\n",
              "      <th>11</th>\n",
              "      <td>Raging Bull</td>\n",
              "      <td>brutal boxing sports movie turbulent life outs...</td>\n",
              "    </tr>\n",
              "    <tr>\n",
              "      <th>12</th>\n",
              "      <td>Lawrence of Arabia</td>\n",
              "      <td>classic adventure war movie psychological dram...</td>\n",
              "    </tr>\n",
              "  </tbody>\n",
              "</table>\n",
              "</div>\n",
              "    <div class=\"colab-df-buttons\">\n",
              "\n",
              "  <div class=\"colab-df-container\">\n",
              "    <button class=\"colab-df-convert\" onclick=\"convertToInteractive('df-99ca4759-565b-4414-863a-0af83773c829')\"\n",
              "            title=\"Convert this dataframe to an interactive table.\"\n",
              "            style=\"display:none;\">\n",
              "\n",
              "  <svg xmlns=\"http://www.w3.org/2000/svg\" height=\"24px\" viewBox=\"0 -960 960 960\">\n",
              "    <path d=\"M120-120v-720h720v720H120Zm60-500h600v-160H180v160Zm220 220h160v-160H400v160Zm0 220h160v-160H400v160ZM180-400h160v-160H180v160Zm440 0h160v-160H620v160ZM180-180h160v-160H180v160Zm440 0h160v-160H620v160Z\"/>\n",
              "  </svg>\n",
              "    </button>\n",
              "\n",
              "  <style>\n",
              "    .colab-df-container {\n",
              "      display:flex;\n",
              "      gap: 12px;\n",
              "    }\n",
              "\n",
              "    .colab-df-convert {\n",
              "      background-color: #E8F0FE;\n",
              "      border: none;\n",
              "      border-radius: 50%;\n",
              "      cursor: pointer;\n",
              "      display: none;\n",
              "      fill: #1967D2;\n",
              "      height: 32px;\n",
              "      padding: 0 0 0 0;\n",
              "      width: 32px;\n",
              "    }\n",
              "\n",
              "    .colab-df-convert:hover {\n",
              "      background-color: #E2EBFA;\n",
              "      box-shadow: 0px 1px 2px rgba(60, 64, 67, 0.3), 0px 1px 3px 1px rgba(60, 64, 67, 0.15);\n",
              "      fill: #174EA6;\n",
              "    }\n",
              "\n",
              "    .colab-df-buttons div {\n",
              "      margin-bottom: 4px;\n",
              "    }\n",
              "\n",
              "    [theme=dark] .colab-df-convert {\n",
              "      background-color: #3B4455;\n",
              "      fill: #D2E3FC;\n",
              "    }\n",
              "\n",
              "    [theme=dark] .colab-df-convert:hover {\n",
              "      background-color: #434B5C;\n",
              "      box-shadow: 0px 1px 3px 1px rgba(0, 0, 0, 0.15);\n",
              "      filter: drop-shadow(0px 1px 2px rgba(0, 0, 0, 0.3));\n",
              "      fill: #FFFFFF;\n",
              "    }\n",
              "  </style>\n",
              "\n",
              "    <script>\n",
              "      const buttonEl =\n",
              "        document.querySelector('#df-99ca4759-565b-4414-863a-0af83773c829 button.colab-df-convert');\n",
              "      buttonEl.style.display =\n",
              "        google.colab.kernel.accessAllowed ? 'block' : 'none';\n",
              "\n",
              "      async function convertToInteractive(key) {\n",
              "        const element = document.querySelector('#df-99ca4759-565b-4414-863a-0af83773c829');\n",
              "        const dataTable =\n",
              "          await google.colab.kernel.invokeFunction('convertToInteractive',\n",
              "                                                    [key], {});\n",
              "        if (!dataTable) return;\n",
              "\n",
              "        const docLinkHtml = 'Like what you see? Visit the ' +\n",
              "          '<a target=\"_blank\" href=https://colab.research.google.com/notebooks/data_table.ipynb>data table notebook</a>'\n",
              "          + ' to learn more about interactive tables.';\n",
              "        element.innerHTML = '';\n",
              "        dataTable['output_type'] = 'display_data';\n",
              "        await google.colab.output.renderOutput(dataTable, element);\n",
              "        const docLink = document.createElement('div');\n",
              "        docLink.innerHTML = docLinkHtml;\n",
              "        element.appendChild(docLink);\n",
              "      }\n",
              "    </script>\n",
              "  </div>\n",
              "\n",
              "\n",
              "<div id=\"df-4b7fd75c-660f-410f-9023-02d044858f5f\">\n",
              "  <button class=\"colab-df-quickchart\" onclick=\"quickchart('df-4b7fd75c-660f-410f-9023-02d044858f5f')\"\n",
              "            title=\"Suggest charts.\"\n",
              "            style=\"display:none;\">\n",
              "\n",
              "<svg xmlns=\"http://www.w3.org/2000/svg\" height=\"24px\"viewBox=\"0 0 24 24\"\n",
              "     width=\"24px\">\n",
              "    <g>\n",
              "        <path d=\"M19 3H5c-1.1 0-2 .9-2 2v14c0 1.1.9 2 2 2h14c1.1 0 2-.9 2-2V5c0-1.1-.9-2-2-2zM9 17H7v-7h2v7zm4 0h-2V7h2v10zm4 0h-2v-4h2v4z\"/>\n",
              "    </g>\n",
              "</svg>\n",
              "  </button>\n",
              "\n",
              "<style>\n",
              "  .colab-df-quickchart {\n",
              "    background-color: #E8F0FE;\n",
              "    border: none;\n",
              "    border-radius: 50%;\n",
              "    cursor: pointer;\n",
              "    display: none;\n",
              "    fill: #1967D2;\n",
              "    height: 32px;\n",
              "    padding: 0 0 0 0;\n",
              "    width: 32px;\n",
              "  }\n",
              "\n",
              "  .colab-df-quickchart:hover {\n",
              "    background-color: #E2EBFA;\n",
              "    box-shadow: 0px 1px 2px rgba(60, 64, 67, 0.3), 0px 1px 3px 1px rgba(60, 64, 67, 0.15);\n",
              "    fill: #174EA6;\n",
              "  }\n",
              "\n",
              "  [theme=dark] .colab-df-quickchart {\n",
              "    background-color: #3B4455;\n",
              "    fill: #D2E3FC;\n",
              "  }\n",
              "\n",
              "  [theme=dark] .colab-df-quickchart:hover {\n",
              "    background-color: #434B5C;\n",
              "    box-shadow: 0px 1px 3px 1px rgba(0, 0, 0, 0.15);\n",
              "    filter: drop-shadow(0px 1px 2px rgba(0, 0, 0, 0.3));\n",
              "    fill: #FFFFFF;\n",
              "  }\n",
              "</style>\n",
              "\n",
              "  <script>\n",
              "    async function quickchart(key) {\n",
              "      const charts = await google.colab.kernel.invokeFunction(\n",
              "          'suggestCharts', [key], {});\n",
              "    }\n",
              "    (() => {\n",
              "      let quickchartButtonEl =\n",
              "        document.querySelector('#df-4b7fd75c-660f-410f-9023-02d044858f5f button');\n",
              "      quickchartButtonEl.style.display =\n",
              "        google.colab.kernel.accessAllowed ? 'block' : 'none';\n",
              "    })();\n",
              "  </script>\n",
              "</div>\n",
              "    </div>\n",
              "  </div>\n"
            ]
          },
          "metadata": {},
          "execution_count": 8
        }
      ],
      "source": [
        "df.drop_duplicates()"
      ]
    },
    {
      "cell_type": "markdown",
      "metadata": {
        "id": "KWcLen0QFkD7"
      },
      "source": [
        "drops all the duplicate entries in the dataset."
      ]
    },
    {
      "cell_type": "code",
      "execution_count": 9,
      "metadata": {
        "colab": {
          "base_uri": "https://localhost:8080/"
        },
        "id": "hZQAaEH-FkD8",
        "outputId": "56f033a5-3537-4da8-a4f5-443d5b2105d0"
      },
      "outputs": [
        {
          "output_type": "execute_result",
          "data": {
            "text/plain": [
              "(13, 2)"
            ]
          },
          "metadata": {},
          "execution_count": 9
        }
      ],
      "source": [
        "df.shape\n",
        "#number of rows and columns in the dataset."
      ]
    },
    {
      "cell_type": "code",
      "execution_count": 10,
      "metadata": {
        "colab": {
          "base_uri": "https://localhost:8080/"
        },
        "id": "q_QEXUgUFkD9",
        "outputId": "5c21d5e0-f86f-4179-82c7-b8d1fca20938"
      },
      "outputs": [
        {
          "output_type": "execute_result",
          "data": {
            "text/plain": [
              "array([[['The Lord of the Rings The Two Towers',\n",
              "         'remarkable display of fantasy action powerful ring hobbit destroy it fight'],\n",
              "        ['Inception',\n",
              "         'implanting stealing idea destroy gripping action jaw dropping fight stunning visual violence'],\n",
              "        ['Spiderman Across the spider verse',\n",
              "         'mind bending wild action sequences intimate emotional moments amazing action'],\n",
              "        ['The Dark Knight',\n",
              "         'Best live action portrayal beat organized crime in Gotham enigmatic villain brutality violence'],\n",
              "        ['Three colors red',\n",
              "         'mesmerising friendship turned love profound unconventional bond heartfelt '],\n",
              "        ['It happened one night',\n",
              "         'Romantic comedy screwball comedy enduring tale of romance comical true love'],\n",
              "        ['In the Mood for Love',\n",
              "         'Neighbors solace bonding affair predicament spell binding infatuation heartwarming'],\n",
              "        ['Before Sunrise',\n",
              "         'blossoming love know each other chance encounter meeting someone special fleeting romance magical evening'],\n",
              "        ['Gone with the wind',\n",
              "         'epic romance greatest romantic film ever made touching amazing relationship cherished love'],\n",
              "        ['Eternal Sunshine of the Spotless Mind',\n",
              "         'Length people go finding love of life emotional rollercoaster in blossoming of love reignited fascinating journey into heart '],\n",
              "        ['The Shawshank Redemption',\n",
              "         'movie about friendship life fight to be good person prisoner surviving'],\n",
              "        ['Raging Bull',\n",
              "         'brutal boxing sports movie turbulent life outside ring almost tragedy character not likable pitiable brutal'],\n",
              "        ['Lawrence of Arabia',\n",
              "         'classic adventure war movie psychological drama british officer fight ottoman success ego dangerous']]],\n",
              "      dtype=object)"
            ]
          },
          "metadata": {},
          "execution_count": 10
        }
      ],
      "source": [
        "review_vector_movie=np.array([df.movie])\n",
        "# # print(\"Moviecolumn: \",review_vector_movie)\n",
        "\n",
        "review_vector_review=np.array([df.review])\n",
        "# # print(\"Review column: \",review_vector_review)\n",
        "\n",
        "\n",
        "review_vector=np.array([df])\n",
        "review_vector"
      ]
    },
    {
      "cell_type": "code",
      "execution_count": 14,
      "metadata": {
        "colab": {
          "base_uri": "https://localhost:8080/",
          "height": 227
        },
        "id": "YmeyJH0-FkD-",
        "outputId": "3e36c460-34c2-43c6-860a-6fb310c1b21b"
      },
      "outputs": [
        {
          "output_type": "error",
          "ename": "TypeError",
          "evalue": "ignored",
          "traceback": [
            "\u001b[0;31m---------------------------------------------------------------------------\u001b[0m",
            "\u001b[0;31mTypeError\u001b[0m                                 Traceback (most recent call last)",
            "\u001b[0;32m<ipython-input-14-f560a838af2b>\u001b[0m in \u001b[0;36m<cell line: 1>\u001b[0;34m()\u001b[0m\n\u001b[0;32m----> 1\u001b[0;31m \u001b[0mnp\u001b[0m\u001b[0;34m.\u001b[0m\u001b[0mdot\u001b[0m\u001b[0;34m(\u001b[0m\u001b[0mreview_vector\u001b[0m\u001b[0;34m)\u001b[0m\u001b[0;34m\u001b[0m\u001b[0;34m\u001b[0m\u001b[0m\n\u001b[0m",
            "\u001b[0;32m/usr/local/lib/python3.10/dist-packages/numpy/core/overrides.py\u001b[0m in \u001b[0;36mdot\u001b[0;34m(*args, **kwargs)\u001b[0m\n",
            "\u001b[0;31mTypeError\u001b[0m: dot() missing 1 required positional argument: 'b'"
          ]
        }
      ],
      "source": [
        "# np.dot(review_vector)"
      ]
    },
    {
      "cell_type": "code",
      "execution_count": 18,
      "metadata": {
        "id": "7kX3Q0y0FkEA"
      },
      "outputs": [],
      "source": [
        "from collections import Counter\n",
        "\n",
        "\n",
        "# Create vectors for each review\n",
        "review_vectors = []\n",
        "for review in df['review']:\n",
        "    words = review.split()\n",
        "    vector = Counter(words)  # Count the frequency of each word\n",
        "    review_vectors.append(vector)\n",
        "\n",
        "\n"
      ]
    },
    {
      "cell_type": "markdown",
      "source": [
        "Using the split function we split the reviews into individual words. The counter (vector) function gives the frequency of occurance of each word in a review. This is stored in a dictionary like structure with words and their frequency which is then appended to the review_vectors list."
      ],
      "metadata": {
        "id": "P5HJI7ItQdJK"
      }
    },
    {
      "cell_type": "code",
      "source": [
        "# Convert the list of review vectors into a numpy array\n",
        "numpy_review_vectors = np.array([list(vector.values()) for vector in review_vectors])\n",
        "\n",
        "print(numpy_review_vectors, '\\n')\n",
        "# Print the vectors\n",
        "for i, movie in enumerate(df['movie']):\n",
        "    print(f\"Movie: {movie}\")\n",
        "    print(f\"Vector: {numpy_review_vectors[i]}\")\n",
        "    print()\n"
      ],
      "metadata": {
        "colab": {
          "base_uri": "https://localhost:8080/"
        },
        "id": "DDlkYlHIQEWF",
        "outputId": "ecb8ebfe-204a-4a84-c508-5a836a181e78"
      },
      "execution_count": 23,
      "outputs": [
        {
          "output_type": "stream",
          "name": "stdout",
          "text": [
            "[list([1, 1, 1, 1, 1, 1, 1, 1, 1, 1, 1])\n",
            " list([1, 1, 1, 1, 1, 1, 1, 1, 1, 1, 1, 1])\n",
            " list([1, 1, 1, 2, 1, 1, 1, 1, 1])\n",
            " list([1, 1, 1, 1, 1, 1, 1, 1, 1, 1, 1, 1, 1])\n",
            " list([1, 1, 1, 1, 1, 1, 1, 1]) list([1, 2, 1, 1, 1, 1, 1, 1, 1, 1])\n",
            " list([1, 1, 1, 1, 1, 1, 1, 1, 1])\n",
            " list([1, 1, 1, 1, 1, 1, 1, 1, 1, 1, 1, 1, 1, 1])\n",
            " list([1, 1, 1, 1, 1, 1, 1, 1, 1, 1, 1, 1])\n",
            " list([1, 1, 1, 1, 2, 2, 1, 1, 1, 1, 1, 1, 1, 1, 1, 1])\n",
            " list([1, 1, 1, 1, 1, 1, 1, 1, 1, 1, 1])\n",
            " list([2, 1, 1, 1, 1, 1, 1, 1, 1, 1, 1, 1, 1, 1])\n",
            " list([1, 1, 1, 1, 1, 1, 1, 1, 1, 1, 1, 1, 1])] \n",
            "\n",
            "Movie: The Lord of the Rings The Two Towers\n",
            "Vector: [1, 1, 1, 1, 1, 1, 1, 1, 1, 1, 1]\n",
            "\n",
            "Movie: Inception\n",
            "Vector: [1, 1, 1, 1, 1, 1, 1, 1, 1, 1, 1, 1]\n",
            "\n",
            "Movie: Spiderman Across the spider verse\n",
            "Vector: [1, 1, 1, 2, 1, 1, 1, 1, 1]\n",
            "\n",
            "Movie: The Dark Knight\n",
            "Vector: [1, 1, 1, 1, 1, 1, 1, 1, 1, 1, 1, 1, 1]\n",
            "\n",
            "Movie: Three colors red\n",
            "Vector: [1, 1, 1, 1, 1, 1, 1, 1]\n",
            "\n",
            "Movie: It happened one night\n",
            "Vector: [1, 2, 1, 1, 1, 1, 1, 1, 1, 1]\n",
            "\n",
            "Movie: In the Mood for Love\n",
            "Vector: [1, 1, 1, 1, 1, 1, 1, 1, 1]\n",
            "\n",
            "Movie: Before Sunrise\n",
            "Vector: [1, 1, 1, 1, 1, 1, 1, 1, 1, 1, 1, 1, 1, 1]\n",
            "\n",
            "Movie: Gone with the wind\n",
            "Vector: [1, 1, 1, 1, 1, 1, 1, 1, 1, 1, 1, 1]\n",
            "\n",
            "Movie: Eternal Sunshine of the Spotless Mind\n",
            "Vector: [1, 1, 1, 1, 2, 2, 1, 1, 1, 1, 1, 1, 1, 1, 1, 1]\n",
            "\n",
            "Movie: The Shawshank Redemption\n",
            "Vector: [1, 1, 1, 1, 1, 1, 1, 1, 1, 1, 1]\n",
            "\n",
            "Movie: Raging Bull\n",
            "Vector: [2, 1, 1, 1, 1, 1, 1, 1, 1, 1, 1, 1, 1, 1]\n",
            "\n",
            "Movie: Lawrence of Arabia\n",
            "Vector: [1, 1, 1, 1, 1, 1, 1, 1, 1, 1, 1, 1, 1]\n",
            "\n"
          ]
        },
        {
          "output_type": "stream",
          "name": "stderr",
          "text": [
            "<ipython-input-23-b84dae9e0951>:2: VisibleDeprecationWarning: Creating an ndarray from ragged nested sequences (which is a list-or-tuple of lists-or-tuples-or ndarrays with different lengths or shapes) is deprecated. If you meant to do this, you must specify 'dtype=object' when creating the ndarray.\n",
            "  numpy_review_vectors = np.array([list(vector.values()) for vector in review_vectors])\n"
          ]
        }
      ]
    },
    {
      "cell_type": "markdown",
      "source": [
        "A 2D numpy array is created. Tne for loop iterates through the indices of the data frame..It then prints the movie title with the corresponding vector"
      ],
      "metadata": {
        "id": "m98L8Xk4RU3z"
      }
    },
    {
      "cell_type": "code",
      "execution_count": 15,
      "metadata": {
        "id": "sLRoj6YsFkEC"
      },
      "outputs": [],
      "source": [
        "movie_review_vectors = {}"
      ]
    },
    {
      "cell_type": "markdown",
      "source": [
        "A dictionary of movie review vectors."
      ],
      "metadata": {
        "id": "CpDxQl6ZST_4"
      }
    },
    {
      "cell_type": "code",
      "execution_count": 22,
      "metadata": {
        "id": "KFxb8_UtFkED"
      },
      "outputs": [],
      "source": [
        "for index, row in df.iterrows():\n",
        "    movie = row['movie']\n",
        "    review = row['review']\n",
        "\n",
        "    words = review.split()\n",
        "    vector = {}\n",
        "    for word in words:\n",
        "        vector[word] = vector.get(word, 0) + 1\n",
        "\n",
        "    movie_review_vectors[movie] = vector"
      ]
    },
    {
      "cell_type": "markdown",
      "source": [
        "this is an alternate way of iterating through the dataframe to find the frequency of words in a review. Although it has the same approach, I wanted to try it without using the enumerate function."
      ],
      "metadata": {
        "id": "LMurlV9xSzky"
      }
    },
    {
      "cell_type": "code",
      "source": [],
      "metadata": {
        "id": "8-vmCi4wSy-t"
      },
      "execution_count": null,
      "outputs": []
    },
    {
      "cell_type": "code",
      "execution_count": 24,
      "metadata": {
        "id": "5IdGWu-bFkEF"
      },
      "outputs": [],
      "source": [
        "def dot_product(v1, v2):\n",
        "    result = 0\n",
        "    for word in v1:\n",
        "        if word in v2:\n",
        "            result += v1[word] * v2[word]\n",
        "    return result"
      ]
    },
    {
      "cell_type": "markdown",
      "source": [
        "Here we create two vectors 2 distinct reviews.The for loop iterates through a review and inside the for loop we find if any other review matches the frequency of the former review.\n",
        "Using the dot product formula - result += v1[word] * v2[word] - we find the common word for both the vectors and also the contribution of this word to the dot product."
      ],
      "metadata": {
        "id": "tDLMfR0uTofV"
      }
    },
    {
      "cell_type": "code",
      "source": [],
      "metadata": {
        "id": "SRq0fDDaToOG"
      },
      "execution_count": null,
      "outputs": []
    },
    {
      "cell_type": "code",
      "execution_count": 25,
      "metadata": {
        "id": "W7TPlWqlFkEG"
      },
      "outputs": [],
      "source": [
        "similarities = {}\n",
        "for movie1 in movie_review_vectors:\n",
        "    for movie2 in movie_review_vectors:\n",
        "        if movie1 != movie2:\n",
        "            similarity = dot_product(movie_review_vectors[movie1], movie_review_vectors[movie2])\n",
        "            similarities[(movie1, movie2)] = similarity"
      ]
    },
    {
      "cell_type": "markdown",
      "metadata": {
        "id": "zAJNZdHSFkEH"
      },
      "source": [
        "Calculate the dot product of 2 distinct movie reviews - movie 1 and movie 2. The similarities dictionary stores the similarity in using a tuple which contains the pair of movies."
      ]
    },
    {
      "cell_type": "code",
      "execution_count": 26,
      "metadata": {
        "colab": {
          "base_uri": "https://localhost:8080/"
        },
        "id": "uQO_PcflFkEI",
        "outputId": "3e968fa5-f9b4-4a5c-e44a-8ba58bf8bd43"
      },
      "outputs": [
        {
          "output_type": "execute_result",
          "data": {
            "text/plain": [
              "[(('It happened one night', 'Eternal Sunshine of the Spotless Mind'), 4),\n",
              " (('Eternal Sunshine of the Spotless Mind', 'It happened one night'), 4),\n",
              " (('The Lord of the Rings The Two Towers', 'Inception'), 3)]"
            ]
          },
          "metadata": {},
          "execution_count": 26
        }
      ],
      "source": [
        "top_similar_pairs = sorted(similarities.items(), key=lambda x: x[1], reverse=True)[:3]\n",
        "top_similar_pairs\n"
      ]
    },
    {
      "cell_type": "markdown",
      "source": [
        "The lambda function gives the similarity value. Then we sort the similarities with\n",
        "the help of the value  using the sorting function in the descending order."
      ],
      "metadata": {
        "id": "57w5loQgVl2T"
      }
    },
    {
      "cell_type": "markdown",
      "source": [],
      "metadata": {
        "id": "Y20qEUccVTzs"
      }
    },
    {
      "cell_type": "code",
      "execution_count": 27,
      "metadata": {
        "id": "PKNAdUoBFkEJ"
      },
      "outputs": [],
      "source": [
        "def numpy_dot_product(v1, v2):\n",
        "    keys = set(v1.keys()) & set(v2.keys())\n",
        "    np_dot_prod = np.dot([v1[key] for key in keys], [v2[key] for key in keys])\n",
        "    return np_dot_prod\n",
        "\n"
      ]
    },
    {
      "cell_type": "markdown",
      "source": [
        "Finding the dot product using the np.dot numpy function."
      ],
      "metadata": {
        "id": "3ZZ9N2deZ19H"
      }
    },
    {
      "cell_type": "markdown",
      "source": [
        "v1 and v2 represent two vectors whose dot product we will be calculating. The 'np.dot' calculates the dot product of the two list in the 'key' variable"
      ],
      "metadata": {
        "id": "05csPbPsXk2u"
      }
    },
    {
      "cell_type": "code",
      "execution_count": 28,
      "metadata": {
        "id": "oTT_XL9KFkEK"
      },
      "outputs": [],
      "source": [
        "n_iterations = 10000\n"
      ]
    },
    {
      "cell_type": "code",
      "execution_count": 30,
      "metadata": {
        "colab": {
          "base_uri": "https://localhost:8080/"
        },
        "id": "RPB-DhFmFkEK",
        "outputId": "ae159aef-113d-4055-f951-645a64497347"
      },
      "outputs": [
        {
          "output_type": "execute_result",
          "data": {
            "text/plain": [
              "1.6286170482635498"
            ]
          },
          "metadata": {},
          "execution_count": 30
        }
      ],
      "source": [
        "start_time = time.time()\n",
        "for _ in range(n_iterations):\n",
        "    for movie1 in movie_review_vectors:\n",
        "        for movie2 in movie_review_vectors:\n",
        "            if movie1 != movie2:\n",
        "                dot_product(movie_review_vectors[movie1], movie_review_vectors[movie2])\n",
        "end_time = time.time()\n",
        "hand_coded_time = end_time - start_time\n",
        "\n",
        "hand_coded_time"
      ]
    },
    {
      "cell_type": "markdown",
      "source": [
        "Finding the hand coded time i.e., using the dot product formula."
      ],
      "metadata": {
        "id": "BTsDk-emZrGU"
      }
    },
    {
      "cell_type": "code",
      "execution_count": 32,
      "metadata": {
        "colab": {
          "base_uri": "https://localhost:8080/"
        },
        "id": "9Jrxwx5xFkEL",
        "outputId": "a0cdc560-64c2-4df5-8038-5c65f02925fe"
      },
      "outputs": [
        {
          "output_type": "execute_result",
          "data": {
            "text/plain": [
              "8.56578278541565"
            ]
          },
          "metadata": {},
          "execution_count": 32
        }
      ],
      "source": [
        "start_time = time.time()\n",
        "for _ in range(n_iterations):\n",
        "    for movie1 in movie_review_vectors:\n",
        "        for movie2 in movie_review_vectors:\n",
        "            if movie1 != movie2:\n",
        "                numpy_dot_product(movie_review_vectors[movie1], movie_review_vectors[movie2])\n",
        "end_time = time.time()\n",
        "numpy_time = end_time - start_time\n",
        "\n",
        "numpy_time"
      ]
    },
    {
      "cell_type": "code",
      "execution_count": 39,
      "metadata": {
        "colab": {
          "base_uri": "https://localhost:8080/"
        },
        "id": "mu-rgAE0FkEL",
        "outputId": "f79ef1f6-3ebf-4511-d215-57beabce65cc"
      },
      "outputs": [
        {
          "output_type": "stream",
          "name": "stdout",
          "text": [
            "Hand-coded Dot Product Time: 1.63 seconds\n",
            "Numpy Dot Product Time: 8.57 seconds\n",
            "Speedup:  0.19x\n"
          ]
        }
      ],
      "source": [
        "print(f\"Hand-coded Dot Product Time: {hand_coded_time:.2f} seconds\")\n",
        "print(f\"Numpy Dot Product Time: {numpy_time:.2f} seconds\")\n",
        "print(f\"Speedup: {hand_coded_time / numpy_time: .2f}x\")"
      ]
    },
    {
      "cell_type": "markdown",
      "source": [
        "This doesn't seem right. The numpy function should have been faster than the hand coded dot product function.\n"
      ],
      "metadata": {
        "id": "o-EGIgRBbA7C"
      }
    },
    {
      "cell_type": "markdown",
      "source": [],
      "metadata": {
        "id": "bv6YEzJGauWl"
      }
    }
  ],
  "metadata": {
    "kernelspec": {
      "display_name": "AIMLSem1",
      "language": "python",
      "name": "python3"
    },
    "language_info": {
      "codemirror_mode": {
        "name": "ipython",
        "version": 3
      },
      "file_extension": ".py",
      "mimetype": "text/x-python",
      "name": "python",
      "nbconvert_exporter": "python",
      "pygments_lexer": "ipython3",
      "version": "3.9.17"
    },
    "orig_nbformat": 4,
    "colab": {
      "provenance": [],
      "include_colab_link": true
    }
  },
  "nbformat": 4,
  "nbformat_minor": 0
}