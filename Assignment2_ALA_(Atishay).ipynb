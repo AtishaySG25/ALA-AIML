{
  "nbformat": 4,
  "nbformat_minor": 0,
  "metadata": {
    "colab": {
      "provenance": [],
      "authorship_tag": "ABX9TyOkebtWHsrDade62uCQ1pAL",
      "include_colab_link": true
    },
    "kernelspec": {
      "name": "python3",
      "display_name": "Python 3"
    },
    "language_info": {
      "name": "python"
    }
  },
  "cells": [
    {
      "cell_type": "markdown",
      "metadata": {
        "id": "view-in-github",
        "colab_type": "text"
      },
      "source": [
        "<a href=\"https://colab.research.google.com/github/AtishaySG25/ALA-AIML/blob/main/Assignment2_ALA_(Atishay).ipynb\" target=\"_parent\"><img src=\"https://colab.research.google.com/assets/colab-badge.svg\" alt=\"Open In Colab\"/></a>"
      ]
    },
    {
      "cell_type": "code",
      "execution_count": 1,
      "metadata": {
        "colab": {
          "base_uri": "https://localhost:8080/"
        },
        "id": "mlXwlgFmj3xv",
        "outputId": "17eaccbf-e4d5-434e-ccda-cb40777f7be9"
      },
      "outputs": [
        {
          "output_type": "stream",
          "name": "stdout",
          "text": [
            "Dataset: [[ 76.  126.   38. ]\n",
            " [ 74.  120.   38. ]\n",
            " [ 72.  118.   37.5]\n",
            " [ 78.  136.   37. ]]\n",
            "\n",
            "Two most distant entries: (array([ 72. , 118. ,  37.5]), array([ 78., 136.,  37.]))\n",
            "Max distance: 18.980252896102307\n"
          ]
        }
      ],
      "source": [
        "#1. Which patient is distant from the rest\n",
        "import numpy as np\n",
        "\n",
        "def euclidean_distance(pat_a, pat_b):\n",
        "    return np.sqrt(np.sum((pat_a - pat_b)**2))\n",
        "\n",
        "def find_distant_entries(dataset):\n",
        "    num_entries = len(dataset)\n",
        "    max_distance = 0\n",
        "    distant_entries = None\n",
        "\n",
        "    for i in range(num_entries):\n",
        "        for j in range(i+1, num_entries):\n",
        "            distance = euclidean_distance(dataset[i], dataset[j])\n",
        "            if distance > max_distance:\n",
        "                max_distance = distance\n",
        "                distant_entries = (dataset[i], dataset[j])\n",
        "\n",
        "    return distant_entries, max_distance\n",
        "\n",
        "#defining the dataset\n",
        "dataset = np.array([\n",
        "    [76, 126, 38.0],\n",
        "    [74, 120, 38.0],\n",
        "    [72, 118, 37.5],\n",
        "    [78, 136, 37.0]\n",
        "])\n",
        "\n",
        "#finding entry that is farthest from the rest.\n",
        "distant_entries, max_distance = find_distant_entries(dataset)\n",
        "\n",
        "print(\"Dataset:\", dataset)\n",
        "print(\"\\nTwo most distant entries:\", distant_entries)\n",
        "print(\"Max distance:\", max_distance)"
      ]
    },
    {
      "cell_type": "markdown",
      "source": [
        "Using the euclidean distance we find the distance between 2 entries in the dataset. Using the 2 for loops we find the distance between a pair of points. This is assigned to the distance variable. While iterating through the loop, if we happen to find a longer distance between two pairs we update it in the max_distance variable. So this means that the pat_b is the farthest from the pat_a, which also means that it is farthest from all other entries too."
      ],
      "metadata": {
        "id": "UILuG_Js2uMS"
      }
    },
    {
      "cell_type": "markdown",
      "source": [],
      "metadata": {
        "id": "UY7QMaNT2U_B"
      }
    },
    {
      "cell_type": "code",
      "source": [
        "#2. which two patients are nearest.\n",
        "\n",
        "import numpy as np\n",
        "\n",
        "def euclidean_distance(pat_a, pat_b):\n",
        "    return np.sqrt(np.sum((pat_a - pat_b)**2))\n",
        "\n",
        "def find_nearest_points(dataset):\n",
        "    num_points = len(dataset)\n",
        "    min_distance = float('inf')\n",
        "    nearest_points = None\n",
        "\n",
        "    for i in range(num_points):\n",
        "        for j in range(i+1, num_points):\n",
        "            distance = euclidean_distance(dataset[i], dataset[j])\n",
        "            if distance < min_distance:\n",
        "                min_distance = distance\n",
        "                nearest_points = (dataset[i], dataset[j])\n",
        "\n",
        "    return nearest_points, min_distance\n",
        "\n",
        "#dataset\n",
        "dataset = np.array([\n",
        "    [76, 126, 38.0],\n",
        "    [74, 120, 38.0],\n",
        "    [72, 118, 37.5],\n",
        "    [78, 136, 37.0]\n",
        "])\n",
        "\n",
        "# Find the two nearest entries in the dataset\n",
        "nearest_points, min_distance = find_nearest_points(dataset)\n",
        "\n",
        "print(\"Dataset:\")\n",
        "print(dataset)\n",
        "print(\"\\nTwo nearest points:\", nearest_points)\n",
        "print(\"Min distance:\", min_distance)\n"
      ],
      "metadata": {
        "id": "EmZ7yaHzj5Ue",
        "colab": {
          "base_uri": "https://localhost:8080/"
        },
        "outputId": "e358a9fb-ca79-4a4c-ce09-b8064fb73f19"
      },
      "execution_count": 3,
      "outputs": [
        {
          "output_type": "stream",
          "name": "stdout",
          "text": [
            "Dataset:\n",
            "[[ 76.  126.   38. ]\n",
            " [ 74.  120.   38. ]\n",
            " [ 72.  118.   37.5]\n",
            " [ 78.  136.   37. ]]\n",
            "\n",
            "Two nearest points: (array([ 74., 120.,  38.]), array([ 72. , 118. ,  37.5]))\n",
            "Min distance: 2.8722813232690143\n"
          ]
        }
      ]
    },
    {
      "cell_type": "markdown",
      "source": [
        "This has the same approach as finding the farthest entry. Instead of finding the farthest entry we find the entries that are nearest to each other. Alike the same approach as before we iterate using two for loops, finding distance between a pair of points and returning the pair that has the least distance between each other."
      ],
      "metadata": {
        "id": "29smg1347qaU"
      }
    },
    {
      "cell_type": "code",
      "source": [
        "#3. Create a new dummy patient and then find which is the closest patient.\n",
        "\n",
        "import numpy as np\n",
        "\n",
        "def euclidean_distance(pat_a, pat_b):\n",
        "    return np.sqrt(np.sum((pat_a - pat_b)**2))\n",
        "\n",
        "def find_closest_entry(dataset, target_entry):\n",
        "    min_distance = float('inf')\n",
        "    closest_entry = None\n",
        "\n",
        "    for entry in dataset:\n",
        "        distance = euclidean_distance(entry, target_entry)\n",
        "        if distance < min_distance:\n",
        "            min_distance = distance\n",
        "            closest_entry = entry\n",
        "\n",
        "    return closest_entry, min_distance\n",
        "\n",
        "# Example dataset\n",
        "dataset = np.array([\n",
        "    [76, 126, 38.0],\n",
        "    [74, 120, 38.0],\n",
        "    [72, 118, 37.5],\n",
        "    [78, 136, 37.0],\n",
        "])\n",
        "\n",
        "# Given target entry\n",
        "target_entry = np.array([70, 118, 39.0])\n",
        "\n",
        "# Find the closest entry in the dataset to the target entry\n",
        "closest_entry, min_distance = find_closest_entry(dataset, target_entry)\n",
        "\n",
        "print(\"Dataset:\")\n",
        "print(dataset)\n",
        "print(\"\\nTarget Entry:\", target_entry)\n",
        "print(\"Closest Entry:\", closest_entry)\n",
        "print(\"Min Distance:\", min_distance)\n"
      ],
      "metadata": {
        "colab": {
          "base_uri": "https://localhost:8080/"
        },
        "id": "kvB6jHtb6XTZ",
        "outputId": "4be0217d-65b5-4b3c-99de-7fa0859149dd"
      },
      "execution_count": 8,
      "outputs": [
        {
          "output_type": "stream",
          "name": "stdout",
          "text": [
            "Dataset:\n",
            "[[ 76.  126.   38. ]\n",
            " [ 74.  120.   38. ]\n",
            " [ 72.  118.   37.5]\n",
            " [ 78.  136.   37. ]]\n",
            "\n",
            "Target Entry: [ 70. 118.  39.]\n",
            "Closest Entry: [ 72.  118.   37.5]\n",
            "Min Distance: 2.5\n"
          ]
        }
      ]
    },
    {
      "cell_type": "markdown",
      "source": [
        "Finding the nearest data entry to dummy data entry uses the same approach as finding the nearest data entries. Here we give a random data entry and the find_closest_entry function finds the nearest data entry to that data point."
      ],
      "metadata": {
        "id": "1CmuWmIl_uTD"
      }
    },
    {
      "cell_type": "code",
      "source": [],
      "metadata": {
        "id": "zjlLLpDs9qnX"
      },
      "execution_count": null,
      "outputs": []
    },
    {
      "cell_type": "markdown",
      "source": [
        "**1. What is the time complexity of this operation of finding the closest two and farthest patients? Specify using\n",
        "BigO notation.**\n",
        "***Answer***:\n",
        "Since we will be iterating through two for loops for both the operations, the time complexity will be O(n^2), where n is the number of data entries in the dataset."
      ],
      "metadata": {
        "id": "D28WCl_mAYPN"
      }
    },
    {
      "cell_type": "markdown",
      "source": [
        "**2. Can you name one practical use of such a simple technique when about 100s of features are available and thousands of patient data is available?**\n",
        "***Answer***:\n",
        "This simple technique will be essential when a patient has to be treated but there is very limited time. By using the nearest point searching algorithm, we will find a patient with the similar vitals and impose their treatment method with the new patient.\n",
        "We can use the farthest data points to eliminate the risk of over dosing the patient and give a reliable treatment to the patient."
      ],
      "metadata": {
        "id": "UVi4x7rcC3c0"
      }
    },
    {
      "cell_type": "code",
      "source": [],
      "metadata": {
        "id": "yNXsOaH0ES-7"
      },
      "execution_count": null,
      "outputs": []
    }
  ]
}