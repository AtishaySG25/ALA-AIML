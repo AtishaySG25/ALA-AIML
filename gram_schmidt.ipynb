{
 "cells": [
  {
   "cell_type": "markdown",
   "metadata": {},
   "source": [
    "**Gram Schmidt Algorithm**"
   ]
  },
  {
   "cell_type": "code",
   "execution_count": 69,
   "metadata": {},
   "outputs": [],
   "source": [
    "import numpy as np"
   ]
  },
  {
   "cell_type": "code",
   "execution_count": 84,
   "metadata": {},
   "outputs": [],
   "source": [
    "vectors = np.array(\n",
    "    [[1,1,1], [0,0,4], [0,1,1]]\n",
    ")"
   ]
  },
  {
   "cell_type": "code",
   "execution_count": 71,
   "metadata": {},
   "outputs": [],
   "source": [
    "q1 = vectors[0]"
   ]
  },
  {
   "cell_type": "code",
   "execution_count": 72,
   "metadata": {},
   "outputs": [
    {
     "data": {
      "text/plain": [
       "array([0., 0., 1.])"
      ]
     },
     "execution_count": 72,
     "metadata": {},
     "output_type": "execute_result"
    }
   ],
   "source": [
    "q1_normalized = q1 / np.linalg.norm(q1)\n",
    "q1_normalized"
   ]
  },
  {
   "cell_type": "code",
   "execution_count": 73,
   "metadata": {},
   "outputs": [
    {
     "data": {
      "text/plain": [
       "[array([0., 0., 1.])]"
      ]
     },
     "execution_count": 73,
     "metadata": {},
     "output_type": "execute_result"
    }
   ],
   "source": [
    "basis = []\n",
    "basis.append(q1_normalized)\n",
    "basis"
   ]
  },
  {
   "cell_type": "code",
   "execution_count": 74,
   "metadata": {},
   "outputs": [
    {
     "data": {
      "text/plain": [
       "array([0., 1., 0.])"
      ]
     },
     "execution_count": 74,
     "metadata": {},
     "output_type": "execute_result"
    }
   ],
   "source": [
    "q2 = vectors[1] - np.dot(q1_normalized, vectors[1])* q1_normalized\n",
    "q2_normalized = q2 / np.linalg.norm(q2)\n",
    "q2_normalized"
   ]
  },
  {
   "cell_type": "code",
   "execution_count": 81,
   "metadata": {},
   "outputs": [
    {
     "name": "stdout",
     "output_type": "stream",
     "text": [
      "[0. 1. 0.]\n"
     ]
    }
   ],
   "source": [
    "q2 = vectors[1] - np.dot(q1_normalized, vectors[1])* q1_normalized\n",
    "if np.linalg.norm(q2) < 1e-7:\n",
    "    print(\"q2 is dependent on q1\")\n",
    "else:\n",
    "    q2_normalized = q2 / np.linalg.norm(q2)\n",
    "    basis.append(q2_normalized)\n",
    "    print(q2_normalized)"
   ]
  },
  {
   "cell_type": "code",
   "execution_count": 76,
   "metadata": {},
   "outputs": [
    {
     "data": {
      "text/plain": [
       "[array([0., 0., 1.]), array([0., 1., 0.])]"
      ]
     },
     "execution_count": 76,
     "metadata": {},
     "output_type": "execute_result"
    }
   ],
   "source": [
    "basis"
   ]
  },
  {
   "cell_type": "code",
   "execution_count": 77,
   "metadata": {},
   "outputs": [
    {
     "name": "stdout",
     "output_type": "stream",
     "text": [
      "[1. 0. 0.]\n"
     ]
    }
   ],
   "source": [
    "q3 = vectors[2] - \\\n",
    "         np.dot(q1_normalized, vectors[2]) * q1_normalized - \\\n",
    "         np.dot(q2_normalized, vectors[2]) * q2_normalized\n",
    "\n",
    "if np.linalg.norm(q3) < 1e-2:\n",
    "    print(\"q3 is dependent on q1 and/or q2\")\n",
    "else:\n",
    "    q3_normalized = q3 / np.linalg.norm(q3)\n",
    "    basis.append(q3_normalized)\n",
    "    print(q3_normalized)"
   ]
  },
  {
   "cell_type": "code",
   "execution_count": 78,
   "metadata": {},
   "outputs": [
    {
     "data": {
      "text/plain": [
       "[array([0., 0., 1.]), array([0., 1., 0.]), array([1., 0., 0.])]"
      ]
     },
     "execution_count": 78,
     "metadata": {},
     "output_type": "execute_result"
    }
   ],
   "source": [
    "basis"
   ]
  },
  {
   "cell_type": "code",
   "execution_count": 101,
   "metadata": {},
   "outputs": [],
   "source": [
    "vectors = np.array(\n",
    "    [[0,0,4], [0,0,2], [1,1,1]]\n",
    ")"
   ]
  },
  {
   "cell_type": "code",
   "execution_count": 104,
   "metadata": {},
   "outputs": [],
   "source": [
    "def gram_schmidt(vectors):\n",
    "    basis= []\n",
    "    for ai in vectors:\n",
    "        qnew = ai - np.sum(np.dot(ai, qj) * qj for qj in basis)  #depricated in numpy\n",
    "        norm = np.linalg.norm(qnew)\n",
    "        if(norm > 1e-10):\n",
    "            basis.append(qnew/norm)\n",
    "        else:\n",
    "            raise Exception(\"Error\")\n",
    "    return np.array(basis)"
   ]
  },
  {
   "cell_type": "code",
   "execution_count": 105,
   "metadata": {},
   "outputs": [
    {
     "name": "stderr",
     "output_type": "stream",
     "text": [
      "C:\\Users\\ATISHAY SG\\AppData\\Local\\Temp\\ipykernel_2076\\1076716205.py:4: DeprecationWarning: Calling np.sum(generator) is deprecated, and in the future will give a different result. Use np.sum(np.fromiter(generator)) or the python sum builtin instead.\n",
      "  qnew = ai - np.sum(np.dot(ai, qj) * qj for qj in basis)  #depricated in numpy\n"
     ]
    },
    {
     "ename": "Exception",
     "evalue": "Error",
     "output_type": "error",
     "traceback": [
      "\u001b[1;31m---------------------------------------------------------------------------\u001b[0m",
      "\u001b[1;31mException\u001b[0m                                 Traceback (most recent call last)",
      "\u001b[1;32md:\\ALA\\gram_schmidt.ipynb Cell 13\u001b[0m line \u001b[0;36m1\n\u001b[1;32m----> <a href='vscode-notebook-cell:/d%3A/ALA/gram_schmidt.ipynb#X16sZmlsZQ%3D%3D?line=0'>1</a>\u001b[0m gram_schmidt(vectors)\n",
      "\u001b[1;32md:\\ALA\\gram_schmidt.ipynb Cell 13\u001b[0m line \u001b[0;36m9\n\u001b[0;32m      <a href='vscode-notebook-cell:/d%3A/ALA/gram_schmidt.ipynb#X16sZmlsZQ%3D%3D?line=6'>7</a>\u001b[0m         basis\u001b[39m.\u001b[39mappend(qnew\u001b[39m/\u001b[39mnorm)\n\u001b[0;32m      <a href='vscode-notebook-cell:/d%3A/ALA/gram_schmidt.ipynb#X16sZmlsZQ%3D%3D?line=7'>8</a>\u001b[0m     \u001b[39melse\u001b[39;00m:\n\u001b[1;32m----> <a href='vscode-notebook-cell:/d%3A/ALA/gram_schmidt.ipynb#X16sZmlsZQ%3D%3D?line=8'>9</a>\u001b[0m         \u001b[39mraise\u001b[39;00m \u001b[39mException\u001b[39;00m(\u001b[39m\"\u001b[39m\u001b[39mError\u001b[39m\u001b[39m\"\u001b[39m)\n\u001b[0;32m     <a href='vscode-notebook-cell:/d%3A/ALA/gram_schmidt.ipynb#X16sZmlsZQ%3D%3D?line=9'>10</a>\u001b[0m \u001b[39mreturn\u001b[39;00m np\u001b[39m.\u001b[39marray(basis)\n",
      "\u001b[1;31mException\u001b[0m: Error"
     ]
    }
   ],
   "source": [
    "gram_schmidt(vectors)"
   ]
  }
 ],
 "metadata": {
  "kernelspec": {
   "display_name": "AIMLSem1",
   "language": "python",
   "name": "python3"
  },
  "language_info": {
   "codemirror_mode": {
    "name": "ipython",
    "version": 3
   },
   "file_extension": ".py",
   "mimetype": "text/x-python",
   "name": "python",
   "nbconvert_exporter": "python",
   "pygments_lexer": "ipython3",
   "version": "3.9.17"
  },
  "orig_nbformat": 4
 },
 "nbformat": 4,
 "nbformat_minor": 2
}
